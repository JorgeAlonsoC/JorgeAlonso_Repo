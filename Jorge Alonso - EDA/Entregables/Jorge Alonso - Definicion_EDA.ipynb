{
 "cells": [
  {
   "cell_type": "markdown",
   "metadata": {},
   "source": [
    "# INFORMACIÓN DEL PROYECTO: JORGE ALONSO EDA"
   ]
  },
  {
   "cell_type": "markdown",
   "metadata": {},
   "source": [
    "<div style=\"text-align: center;\">\n",
    "  <img src=\"./recursos/Automobile-Data.jpg\" alt=\"Gráfico de ventas\" width=\"700\" />\n",
    "</div>"
   ]
  },
  {
   "cell_type": "markdown",
   "metadata": {},
   "source": [
    "### TÍTULO"
   ]
  },
  {
   "cell_type": "markdown",
   "metadata": {},
   "source": [
    "**Estudio de datos almacenados por estaciones de carga para vehiculos eléctricos**"
   ]
  },
  {
   "cell_type": "markdown",
   "metadata": {},
   "source": [
    "### TEMA"
   ]
  },
  {
   "cell_type": "markdown",
   "metadata": {},
   "source": [
    "El tema principal es el estudio de los datos almacenados por puntos de recarga de coches eléctricos.\n",
    "\n",
    "Para ello se va a utilizar el data set \"Electric Vehicle Charging Patterns\" estraido con una API de Kaggle. Los datos extraidos serán tratados y representados con el objetivo de estudar la forma en la que los conductores utilizan dichas estaciones de carga. Los datos extraidos son de conductores de EEUU durante los meses de enero y febrero de 2024. Las ciudades en las que se ubican los puntos de carga son: Houston, San Francisco, Los Angeles, Chicago y New York.\n",
    "\n",
    "Los modelos de coches de os que se han recolectados los datos es de los 5 siguientes 5 vehículos: BMW i3, Hyundai Kona, Chevy Bolt, Nissan Leaf y Tesla Model 3. \n",
    "\n",
    "\n",
    "Este data set, se compone de un total de 20 columnas diferentes (cada una es un tipo de variable) y 1320 registros únicos de carga de EVs."
   ]
  },
  {
   "cell_type": "markdown",
   "metadata": {},
   "source": [
    "### HIPÓTESIS"
   ]
  },
  {
   "cell_type": "markdown",
   "metadata": {},
   "source": [
    "Hipotesis 1: \"Tesla es la marca más eficiente\"<br>\n",
    "Hipotesis 2: \"Los cargadores de tipo DC Fast Charger son mas utilizados para distancias largas\"<br>\n",
    "Hipotesis 3: \"Las ciudades con gran densidad de población, tienen mayor acceso a cargadores eléctricos, por lo que cargan más frecuentemente la batería del vehículo\""
   ]
  },
  {
   "cell_type": "code",
   "execution_count": null,
   "metadata": {},
   "outputs": [],
   "source": [
    "# Escribe tu hipótesis principal en Markdown\n",
    "hipotesis_1 = \"Tesla es la marca más eficient\""
   ]
  },
  {
   "cell_type": "code",
   "execution_count": null,
   "metadata": {},
   "outputs": [],
   "source": [
    "# Escribe más hipótesis si las hubiera en Markdown\n",
    "# hipotesis_2 = \"Tesla es la marca más eficiente\"\n",
    "# hipotesis_3 = \"\"\n",
    "# hipotesis_4 = \"\"\n",
    "# hipotesis_5 = \"\"\n",
    "# ...\n"
   ]
  },
  {
   "cell_type": "markdown",
   "metadata": {},
   "source": [
    "## OBTENCIÓN DE LOS DATOS"
   ]
  },
  {
   "cell_type": "markdown",
   "metadata": {},
   "source": [
    "### DATASETS Y FUENTES ALTERNATIVAS DE DATOS"
   ]
  },
  {
   "cell_type": "markdown",
   "metadata": {},
   "source": [
    "El siguiente data set sobre estaciones de carga de vehiculos eléctricos se muestra en bruto, es decir, se muestra tal cual ha sido descargado.\n",
    "\n",
    "Durante el desarrollo del EDA se elavorará un proceso ETL, para poder sacar el máximo partido a este data set."
   ]
  },
  {
   "cell_type": "code",
   "execution_count": 5,
   "metadata": {},
   "outputs": [
    {
     "name": "stderr",
     "output_type": "stream",
     "text": [
      "c:\\Users\\Jorge_USR\\AppData\\Local\\Programs\\Python\\Python313\\Lib\\site-packages\\tqdm\\auto.py:21: TqdmWarning: IProgress not found. Please update jupyter and ipywidgets. See https://ipywidgets.readthedocs.io/en/stable/user_install.html\n",
      "  from .autonotebook import tqdm as notebook_tqdm\n"
     ]
    }
   ],
   "source": [
    "import hashlib\n",
    "import requests\n",
    "import datetime\n",
    "import pandas as pd\n",
    "import json\n",
    "import kagglehub\n",
    "from kagglehub import KaggleDatasetAdapter\n",
    "import kaggle"
   ]
  },
  {
   "cell_type": "code",
   "execution_count": 6,
   "metadata": {},
   "outputs": [
    {
     "name": "stdout",
     "output_type": "stream",
     "text": [
      "Dataset URL: https://www.kaggle.com/datasets/valakhorasani/electric-vehicle-charging-patterns\n"
     ]
    }
   ],
   "source": [
    "#Descargar el data set de la api de kaggle\n",
    "\n",
    "kaggle.api.authenticate()\n",
    "kaggle.api.dataset_download_files(\"valakhorasani/electric-vehicle-charging-patterns\", path=\"apiVehiculos\", unzip=True)"
   ]
  },
  {
   "cell_type": "code",
   "execution_count": 7,
   "metadata": {},
   "outputs": [],
   "source": [
    "ds_evs = pd.read_csv('./apiVehiculos/ev_charging_patterns.csv')"
   ]
  },
  {
   "cell_type": "code",
   "execution_count": 8,
   "metadata": {},
   "outputs": [
    {
     "data": {
      "text/html": [
       "<div>\n",
       "<style scoped>\n",
       "    .dataframe tbody tr th:only-of-type {\n",
       "        vertical-align: middle;\n",
       "    }\n",
       "\n",
       "    .dataframe tbody tr th {\n",
       "        vertical-align: top;\n",
       "    }\n",
       "\n",
       "    .dataframe thead th {\n",
       "        text-align: right;\n",
       "    }\n",
       "</style>\n",
       "<table border=\"1\" class=\"dataframe\">\n",
       "  <thead>\n",
       "    <tr style=\"text-align: right;\">\n",
       "      <th></th>\n",
       "      <th>User ID</th>\n",
       "      <th>Vehicle Model</th>\n",
       "      <th>Battery Capacity (kWh)</th>\n",
       "      <th>Charging Station ID</th>\n",
       "      <th>Charging Station Location</th>\n",
       "      <th>Charging Start Time</th>\n",
       "      <th>Charging End Time</th>\n",
       "      <th>Energy Consumed (kWh)</th>\n",
       "      <th>Charging Duration (hours)</th>\n",
       "      <th>Charging Rate (kW)</th>\n",
       "      <th>Charging Cost (USD)</th>\n",
       "      <th>Time of Day</th>\n",
       "      <th>Day of Week</th>\n",
       "      <th>State of Charge (Start %)</th>\n",
       "      <th>State of Charge (End %)</th>\n",
       "      <th>Distance Driven (since last charge) (km)</th>\n",
       "      <th>Temperature (°C)</th>\n",
       "      <th>Vehicle Age (years)</th>\n",
       "      <th>Charger Type</th>\n",
       "      <th>User Type</th>\n",
       "    </tr>\n",
       "  </thead>\n",
       "  <tbody>\n",
       "    <tr>\n",
       "      <th>0</th>\n",
       "      <td>User_1</td>\n",
       "      <td>BMW i3</td>\n",
       "      <td>108.463007</td>\n",
       "      <td>Station_391</td>\n",
       "      <td>Houston</td>\n",
       "      <td>2024-01-01 00:00:00</td>\n",
       "      <td>2024-01-01 00:39:00</td>\n",
       "      <td>60.712346</td>\n",
       "      <td>0.591363</td>\n",
       "      <td>36.389181</td>\n",
       "      <td>13.087717</td>\n",
       "      <td>Evening</td>\n",
       "      <td>Tuesday</td>\n",
       "      <td>29.371576</td>\n",
       "      <td>86.119962</td>\n",
       "      <td>293.602111</td>\n",
       "      <td>27.947953</td>\n",
       "      <td>2.0</td>\n",
       "      <td>DC Fast Charger</td>\n",
       "      <td>Commuter</td>\n",
       "    </tr>\n",
       "    <tr>\n",
       "      <th>1</th>\n",
       "      <td>User_2</td>\n",
       "      <td>Hyundai Kona</td>\n",
       "      <td>100.000000</td>\n",
       "      <td>Station_428</td>\n",
       "      <td>San Francisco</td>\n",
       "      <td>2024-01-01 01:00:00</td>\n",
       "      <td>2024-01-01 03:01:00</td>\n",
       "      <td>12.339275</td>\n",
       "      <td>3.133652</td>\n",
       "      <td>30.677735</td>\n",
       "      <td>21.128448</td>\n",
       "      <td>Morning</td>\n",
       "      <td>Monday</td>\n",
       "      <td>10.115778</td>\n",
       "      <td>84.664344</td>\n",
       "      <td>112.112804</td>\n",
       "      <td>14.311026</td>\n",
       "      <td>3.0</td>\n",
       "      <td>Level 1</td>\n",
       "      <td>Casual Driver</td>\n",
       "    </tr>\n",
       "    <tr>\n",
       "      <th>2</th>\n",
       "      <td>User_3</td>\n",
       "      <td>Chevy Bolt</td>\n",
       "      <td>75.000000</td>\n",
       "      <td>Station_181</td>\n",
       "      <td>San Francisco</td>\n",
       "      <td>2024-01-01 02:00:00</td>\n",
       "      <td>2024-01-01 04:48:00</td>\n",
       "      <td>19.128876</td>\n",
       "      <td>2.452653</td>\n",
       "      <td>27.513593</td>\n",
       "      <td>35.667270</td>\n",
       "      <td>Morning</td>\n",
       "      <td>Thursday</td>\n",
       "      <td>6.854604</td>\n",
       "      <td>69.917615</td>\n",
       "      <td>71.799253</td>\n",
       "      <td>21.002002</td>\n",
       "      <td>2.0</td>\n",
       "      <td>Level 2</td>\n",
       "      <td>Commuter</td>\n",
       "    </tr>\n",
       "    <tr>\n",
       "      <th>3</th>\n",
       "      <td>User_4</td>\n",
       "      <td>Hyundai Kona</td>\n",
       "      <td>50.000000</td>\n",
       "      <td>Station_327</td>\n",
       "      <td>Houston</td>\n",
       "      <td>2024-01-01 03:00:00</td>\n",
       "      <td>2024-01-01 06:42:00</td>\n",
       "      <td>79.457824</td>\n",
       "      <td>1.266431</td>\n",
       "      <td>32.882870</td>\n",
       "      <td>13.036239</td>\n",
       "      <td>Evening</td>\n",
       "      <td>Saturday</td>\n",
       "      <td>83.120003</td>\n",
       "      <td>99.624328</td>\n",
       "      <td>199.577785</td>\n",
       "      <td>38.316313</td>\n",
       "      <td>1.0</td>\n",
       "      <td>Level 1</td>\n",
       "      <td>Long-Distance Traveler</td>\n",
       "    </tr>\n",
       "    <tr>\n",
       "      <th>4</th>\n",
       "      <td>User_5</td>\n",
       "      <td>Hyundai Kona</td>\n",
       "      <td>50.000000</td>\n",
       "      <td>Station_108</td>\n",
       "      <td>Los Angeles</td>\n",
       "      <td>2024-01-01 04:00:00</td>\n",
       "      <td>2024-01-01 05:46:00</td>\n",
       "      <td>19.629104</td>\n",
       "      <td>2.019765</td>\n",
       "      <td>10.215712</td>\n",
       "      <td>10.161471</td>\n",
       "      <td>Morning</td>\n",
       "      <td>Saturday</td>\n",
       "      <td>54.258950</td>\n",
       "      <td>63.743786</td>\n",
       "      <td>203.661847</td>\n",
       "      <td>-7.834199</td>\n",
       "      <td>1.0</td>\n",
       "      <td>Level 1</td>\n",
       "      <td>Long-Distance Traveler</td>\n",
       "    </tr>\n",
       "  </tbody>\n",
       "</table>\n",
       "</div>"
      ],
      "text/plain": [
       "  User ID Vehicle Model  Battery Capacity (kWh) Charging Station ID  \\\n",
       "0  User_1        BMW i3              108.463007         Station_391   \n",
       "1  User_2  Hyundai Kona              100.000000         Station_428   \n",
       "2  User_3    Chevy Bolt               75.000000         Station_181   \n",
       "3  User_4  Hyundai Kona               50.000000         Station_327   \n",
       "4  User_5  Hyundai Kona               50.000000         Station_108   \n",
       "\n",
       "  Charging Station Location  Charging Start Time    Charging End Time  \\\n",
       "0                   Houston  2024-01-01 00:00:00  2024-01-01 00:39:00   \n",
       "1             San Francisco  2024-01-01 01:00:00  2024-01-01 03:01:00   \n",
       "2             San Francisco  2024-01-01 02:00:00  2024-01-01 04:48:00   \n",
       "3                   Houston  2024-01-01 03:00:00  2024-01-01 06:42:00   \n",
       "4               Los Angeles  2024-01-01 04:00:00  2024-01-01 05:46:00   \n",
       "\n",
       "   Energy Consumed (kWh)  Charging Duration (hours)  Charging Rate (kW)  \\\n",
       "0              60.712346                   0.591363           36.389181   \n",
       "1              12.339275                   3.133652           30.677735   \n",
       "2              19.128876                   2.452653           27.513593   \n",
       "3              79.457824                   1.266431           32.882870   \n",
       "4              19.629104                   2.019765           10.215712   \n",
       "\n",
       "   Charging Cost (USD) Time of Day Day of Week  State of Charge (Start %)  \\\n",
       "0            13.087717     Evening     Tuesday                  29.371576   \n",
       "1            21.128448     Morning      Monday                  10.115778   \n",
       "2            35.667270     Morning    Thursday                   6.854604   \n",
       "3            13.036239     Evening    Saturday                  83.120003   \n",
       "4            10.161471     Morning    Saturday                  54.258950   \n",
       "\n",
       "   State of Charge (End %)  Distance Driven (since last charge) (km)  \\\n",
       "0                86.119962                                293.602111   \n",
       "1                84.664344                                112.112804   \n",
       "2                69.917615                                 71.799253   \n",
       "3                99.624328                                199.577785   \n",
       "4                63.743786                                203.661847   \n",
       "\n",
       "   Temperature (°C)  Vehicle Age (years)     Charger Type  \\\n",
       "0         27.947953                  2.0  DC Fast Charger   \n",
       "1         14.311026                  3.0          Level 1   \n",
       "2         21.002002                  2.0          Level 2   \n",
       "3         38.316313                  1.0          Level 1   \n",
       "4         -7.834199                  1.0          Level 1   \n",
       "\n",
       "                User Type  \n",
       "0                Commuter  \n",
       "1           Casual Driver  \n",
       "2                Commuter  \n",
       "3  Long-Distance Traveler  \n",
       "4  Long-Distance Traveler  "
      ]
     },
     "execution_count": 8,
     "metadata": {},
     "output_type": "execute_result"
    }
   ],
   "source": [
    "ds_evs.head()"
   ]
  },
  {
   "cell_type": "code",
   "execution_count": 9,
   "metadata": {},
   "outputs": [
    {
     "name": "stdout",
     "output_type": "stream",
     "text": [
      "<class 'pandas.core.frame.DataFrame'>\n",
      "RangeIndex: 1320 entries, 0 to 1319\n",
      "Data columns (total 20 columns):\n",
      " #   Column                                    Non-Null Count  Dtype  \n",
      "---  ------                                    --------------  -----  \n",
      " 0   User ID                                   1320 non-null   object \n",
      " 1   Vehicle Model                             1320 non-null   object \n",
      " 2   Battery Capacity (kWh)                    1320 non-null   float64\n",
      " 3   Charging Station ID                       1320 non-null   object \n",
      " 4   Charging Station Location                 1320 non-null   object \n",
      " 5   Charging Start Time                       1320 non-null   object \n",
      " 6   Charging End Time                         1320 non-null   object \n",
      " 7   Energy Consumed (kWh)                     1254 non-null   float64\n",
      " 8   Charging Duration (hours)                 1320 non-null   float64\n",
      " 9   Charging Rate (kW)                        1254 non-null   float64\n",
      " 10  Charging Cost (USD)                       1320 non-null   float64\n",
      " 11  Time of Day                               1320 non-null   object \n",
      " 12  Day of Week                               1320 non-null   object \n",
      " 13  State of Charge (Start %)                 1320 non-null   float64\n",
      " 14  State of Charge (End %)                   1320 non-null   float64\n",
      " 15  Distance Driven (since last charge) (km)  1254 non-null   float64\n",
      " 16  Temperature (°C)                          1320 non-null   float64\n",
      " 17  Vehicle Age (years)                       1320 non-null   float64\n",
      " 18  Charger Type                              1320 non-null   object \n",
      " 19  User Type                                 1320 non-null   object \n",
      "dtypes: float64(10), object(10)\n",
      "memory usage: 206.4+ KB\n"
     ]
    }
   ],
   "source": [
    "ds_evs.info()"
   ]
  },
  {
   "cell_type": "code",
   "execution_count": 10,
   "metadata": {},
   "outputs": [
    {
     "data": {
      "text/plain": [
       "array(['BMW i3', 'Hyundai Kona', 'Chevy Bolt', 'Nissan Leaf',\n",
       "       'Tesla Model 3'], dtype=object)"
      ]
     },
     "execution_count": 10,
     "metadata": {},
     "output_type": "execute_result"
    }
   ],
   "source": [
    "ds_evs[\"Vehicle Model\"].unique()"
   ]
  },
  {
   "cell_type": "code",
   "execution_count": 11,
   "metadata": {},
   "outputs": [
    {
     "data": {
      "text/plain": [
       "array(['Houston', 'San Francisco', 'Los Angeles', 'Chicago', 'New York'],\n",
       "      dtype=object)"
      ]
     },
     "execution_count": 11,
     "metadata": {},
     "output_type": "execute_result"
    }
   ],
   "source": [
    "ds_evs[\"Charging Station Location\"].unique()"
   ]
  },
  {
   "cell_type": "code",
   "execution_count": 13,
   "metadata": {},
   "outputs": [
    {
     "data": {
      "text/plain": [
       "array(['DC Fast Charger', 'Level 1', 'Level 2'], dtype=object)"
      ]
     },
     "execution_count": 13,
     "metadata": {},
     "output_type": "execute_result"
    }
   ],
   "source": [
    "ds_evs[\"Charger Type\"].unique()"
   ]
  },
  {
   "cell_type": "code",
   "execution_count": null,
   "metadata": {},
   "outputs": [],
   "source": []
  }
 ],
 "metadata": {
  "kernelspec": {
   "display_name": "Python 3",
   "language": "python",
   "name": "python3"
  },
  "language_info": {
   "codemirror_mode": {
    "name": "ipython",
    "version": 3
   },
   "file_extension": ".py",
   "mimetype": "text/x-python",
   "name": "python",
   "nbconvert_exporter": "python",
   "pygments_lexer": "ipython3",
   "version": "3.13.3"
  },
  "orig_nbformat": 4
 },
 "nbformat": 4,
 "nbformat_minor": 2
}
