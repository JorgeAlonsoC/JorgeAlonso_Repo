{
 "cells": [
  {
   "cell_type": "markdown",
   "metadata": {},
   "source": [
    "# INFORMACIÓN DEL PROYECTO: JORGE ALONSO EDA"
   ]
  },
  {
   "cell_type": "markdown",
   "metadata": {},
   "source": [
    "<div style=\"text-align: center;\">\n",
    "  <img src=\"./recursos/Automobile-Data.jpg\" alt=\"Gráfico de ventas\" width=\"700\" />\n",
    "</div>"
   ]
  },
  {
   "cell_type": "markdown",
   "metadata": {},
   "source": [
    "### TÍTULO"
   ]
  },
  {
   "cell_type": "markdown",
   "metadata": {},
   "source": [
    "**Estudio de datos almacenados por estaciones de carga para vehiculos eléctricos**"
   ]
  },
  {
   "cell_type": "markdown",
   "metadata": {},
   "source": [
    "### TEMA"
   ]
  },
  {
   "cell_type": "markdown",
   "metadata": {},
   "source": [
    "El tema principal es el estudio de los datos almacenados por puntos de recarga de coches eléctricos.\n",
    "\n",
    "Para ello se va a utilizar el data set \"Electric Vehicle Charging Patterns\" estraido con una API de Kaggle. Los datos extraidos serán tratados y representados con el objetivo de estudar la forma en la que los conductores utilizan dichas estaciones de carga. Los datos extraidos son de conductores de EEUU durante los meses de enero y febrero de 2024. Las ciudades en las que se ubican los puntos de carga son: Houston, San Francisco, Los Angeles, Chicago y New York.\n",
    "\n",
    "Los modelos de coches de os que se han recolectados los datos es de los 5 siguientes 5 vehículos: BMW i3, Hyundai Kona, Chevy Bolt, Nissan Leaf y Tesla Model 3. \n",
    "\n",
    "\n",
    "Este data set, se compone de un total de 20 columnas diferentes (cada una es un tipo de variable) y 1320 registros únicos de carga de EVs."
   ]
  },
  {
   "cell_type": "markdown",
   "metadata": {},
   "source": [
    "### HIPÓTESIS"
   ]
  },
  {
   "cell_type": "markdown",
   "metadata": {},
   "source": [
    "Hipotesis 1: \"Tesla es la marca más eficiente\"<br>\n",
    "Hipotesis 2: \"~~Los cargadores de tipo DC Fast Charger son mas utilizados para distancias largas~~\" <br>\n",
    "Hipotesis 3: \"Las ciudades con gran densidad de población, tienen mayor acceso a cargadores eléctricos, por lo que cargan más frecuentemente la batería del vehículo\""
   ]
  },
  {
   "cell_type": "markdown",
   "metadata": {},
   "source": [
    "## OBTENCIÓN DE LOS DATOS"
   ]
  },
  {
   "cell_type": "markdown",
   "metadata": {},
   "source": [
    "### DATASETS Y FUENTES ALTERNATIVAS DE DATOS"
   ]
  },
  {
   "cell_type": "markdown",
   "metadata": {},
   "source": [
    "El siguiente data set sobre estaciones de carga de vehiculos eléctricos se muestra en bruto, es decir, se muestra tal cual ha sido descargado.\n",
    "\n",
    "Durante el desarrollo del EDA se elavorará un proceso ETL, para poder sacar el máximo partido a este data set."
   ]
  },
  {
   "cell_type": "code",
   "execution_count": 1,
   "metadata": {},
   "outputs": [
    {
     "name": "stderr",
     "output_type": "stream",
     "text": [
      "c:\\Users\\Jorge_USR\\AppData\\Local\\Programs\\Python\\Python313\\Lib\\site-packages\\tqdm\\auto.py:21: TqdmWarning: IProgress not found. Please update jupyter and ipywidgets. See https://ipywidgets.readthedocs.io/en/stable/user_install.html\n",
      "  from .autonotebook import tqdm as notebook_tqdm\n"
     ]
    }
   ],
   "source": [
    "import hashlib\n",
    "import requests\n",
    "import datetime\n",
    "import pandas as pd\n",
    "import json\n",
    "import kagglehub\n",
    "from kagglehub import KaggleDatasetAdapter\n",
    "import kaggle\n",
    "import seaborn as sns\n",
    "import matplotlib.pyplot as plt\n",
    "import mplcursors\n",
    "import plotly.graph_objs as go\n",
    "from plotly.offline import iplot\n",
    "import plotly.express as px"
   ]
  },
  {
   "cell_type": "code",
   "execution_count": 2,
   "metadata": {},
   "outputs": [
    {
     "name": "stdout",
     "output_type": "stream",
     "text": [
      "Dataset URL: https://www.kaggle.com/datasets/valakhorasani/electric-vehicle-charging-patterns\n"
     ]
    }
   ],
   "source": [
    "#Descargar el data set de la api de kaggle\n",
    "\n",
    "kaggle.api.authenticate()\n",
    "kaggle.api.dataset_download_files(\"valakhorasani/electric-vehicle-charging-patterns\", path=\"apiVehiculos\", unzip=True)"
   ]
  },
  {
   "cell_type": "code",
   "execution_count": 3,
   "metadata": {},
   "outputs": [],
   "source": [
    "ds_evs = pd.read_csv('./apiVehiculos/ev_charging_patterns.csv')"
   ]
  },
  {
   "cell_type": "code",
   "execution_count": 4,
   "metadata": {},
   "outputs": [
    {
     "data": {
      "text/html": [
       "<div>\n",
       "<style scoped>\n",
       "    .dataframe tbody tr th:only-of-type {\n",
       "        vertical-align: middle;\n",
       "    }\n",
       "\n",
       "    .dataframe tbody tr th {\n",
       "        vertical-align: top;\n",
       "    }\n",
       "\n",
       "    .dataframe thead th {\n",
       "        text-align: right;\n",
       "    }\n",
       "</style>\n",
       "<table border=\"1\" class=\"dataframe\">\n",
       "  <thead>\n",
       "    <tr style=\"text-align: right;\">\n",
       "      <th></th>\n",
       "      <th>User ID</th>\n",
       "      <th>Vehicle Model</th>\n",
       "      <th>Battery Capacity (kWh)</th>\n",
       "      <th>Charging Station ID</th>\n",
       "      <th>Charging Station Location</th>\n",
       "      <th>Charging Start Time</th>\n",
       "      <th>Charging End Time</th>\n",
       "      <th>Energy Consumed (kWh)</th>\n",
       "      <th>Charging Duration (hours)</th>\n",
       "      <th>Charging Rate (kW)</th>\n",
       "      <th>Charging Cost (USD)</th>\n",
       "      <th>Time of Day</th>\n",
       "      <th>Day of Week</th>\n",
       "      <th>State of Charge (Start %)</th>\n",
       "      <th>State of Charge (End %)</th>\n",
       "      <th>Distance Driven (since last charge) (km)</th>\n",
       "      <th>Temperature (°C)</th>\n",
       "      <th>Vehicle Age (years)</th>\n",
       "      <th>Charger Type</th>\n",
       "      <th>User Type</th>\n",
       "    </tr>\n",
       "  </thead>\n",
       "  <tbody>\n",
       "    <tr>\n",
       "      <th>0</th>\n",
       "      <td>User_1</td>\n",
       "      <td>BMW i3</td>\n",
       "      <td>108.463007</td>\n",
       "      <td>Station_391</td>\n",
       "      <td>Houston</td>\n",
       "      <td>2024-01-01 00:00:00</td>\n",
       "      <td>2024-01-01 00:39:00</td>\n",
       "      <td>60.712346</td>\n",
       "      <td>0.591363</td>\n",
       "      <td>36.389181</td>\n",
       "      <td>13.087717</td>\n",
       "      <td>Evening</td>\n",
       "      <td>Tuesday</td>\n",
       "      <td>29.371576</td>\n",
       "      <td>86.119962</td>\n",
       "      <td>293.602111</td>\n",
       "      <td>27.947953</td>\n",
       "      <td>2.0</td>\n",
       "      <td>DC Fast Charger</td>\n",
       "      <td>Commuter</td>\n",
       "    </tr>\n",
       "    <tr>\n",
       "      <th>1</th>\n",
       "      <td>User_2</td>\n",
       "      <td>Hyundai Kona</td>\n",
       "      <td>100.000000</td>\n",
       "      <td>Station_428</td>\n",
       "      <td>San Francisco</td>\n",
       "      <td>2024-01-01 01:00:00</td>\n",
       "      <td>2024-01-01 03:01:00</td>\n",
       "      <td>12.339275</td>\n",
       "      <td>3.133652</td>\n",
       "      <td>30.677735</td>\n",
       "      <td>21.128448</td>\n",
       "      <td>Morning</td>\n",
       "      <td>Monday</td>\n",
       "      <td>10.115778</td>\n",
       "      <td>84.664344</td>\n",
       "      <td>112.112804</td>\n",
       "      <td>14.311026</td>\n",
       "      <td>3.0</td>\n",
       "      <td>Level 1</td>\n",
       "      <td>Casual Driver</td>\n",
       "    </tr>\n",
       "    <tr>\n",
       "      <th>2</th>\n",
       "      <td>User_3</td>\n",
       "      <td>Chevy Bolt</td>\n",
       "      <td>75.000000</td>\n",
       "      <td>Station_181</td>\n",
       "      <td>San Francisco</td>\n",
       "      <td>2024-01-01 02:00:00</td>\n",
       "      <td>2024-01-01 04:48:00</td>\n",
       "      <td>19.128876</td>\n",
       "      <td>2.452653</td>\n",
       "      <td>27.513593</td>\n",
       "      <td>35.667270</td>\n",
       "      <td>Morning</td>\n",
       "      <td>Thursday</td>\n",
       "      <td>6.854604</td>\n",
       "      <td>69.917615</td>\n",
       "      <td>71.799253</td>\n",
       "      <td>21.002002</td>\n",
       "      <td>2.0</td>\n",
       "      <td>Level 2</td>\n",
       "      <td>Commuter</td>\n",
       "    </tr>\n",
       "    <tr>\n",
       "      <th>3</th>\n",
       "      <td>User_4</td>\n",
       "      <td>Hyundai Kona</td>\n",
       "      <td>50.000000</td>\n",
       "      <td>Station_327</td>\n",
       "      <td>Houston</td>\n",
       "      <td>2024-01-01 03:00:00</td>\n",
       "      <td>2024-01-01 06:42:00</td>\n",
       "      <td>79.457824</td>\n",
       "      <td>1.266431</td>\n",
       "      <td>32.882870</td>\n",
       "      <td>13.036239</td>\n",
       "      <td>Evening</td>\n",
       "      <td>Saturday</td>\n",
       "      <td>83.120003</td>\n",
       "      <td>99.624328</td>\n",
       "      <td>199.577785</td>\n",
       "      <td>38.316313</td>\n",
       "      <td>1.0</td>\n",
       "      <td>Level 1</td>\n",
       "      <td>Long-Distance Traveler</td>\n",
       "    </tr>\n",
       "    <tr>\n",
       "      <th>4</th>\n",
       "      <td>User_5</td>\n",
       "      <td>Hyundai Kona</td>\n",
       "      <td>50.000000</td>\n",
       "      <td>Station_108</td>\n",
       "      <td>Los Angeles</td>\n",
       "      <td>2024-01-01 04:00:00</td>\n",
       "      <td>2024-01-01 05:46:00</td>\n",
       "      <td>19.629104</td>\n",
       "      <td>2.019765</td>\n",
       "      <td>10.215712</td>\n",
       "      <td>10.161471</td>\n",
       "      <td>Morning</td>\n",
       "      <td>Saturday</td>\n",
       "      <td>54.258950</td>\n",
       "      <td>63.743786</td>\n",
       "      <td>203.661847</td>\n",
       "      <td>-7.834199</td>\n",
       "      <td>1.0</td>\n",
       "      <td>Level 1</td>\n",
       "      <td>Long-Distance Traveler</td>\n",
       "    </tr>\n",
       "  </tbody>\n",
       "</table>\n",
       "</div>"
      ],
      "text/plain": [
       "  User ID Vehicle Model  Battery Capacity (kWh) Charging Station ID  \\\n",
       "0  User_1        BMW i3              108.463007         Station_391   \n",
       "1  User_2  Hyundai Kona              100.000000         Station_428   \n",
       "2  User_3    Chevy Bolt               75.000000         Station_181   \n",
       "3  User_4  Hyundai Kona               50.000000         Station_327   \n",
       "4  User_5  Hyundai Kona               50.000000         Station_108   \n",
       "\n",
       "  Charging Station Location  Charging Start Time    Charging End Time  \\\n",
       "0                   Houston  2024-01-01 00:00:00  2024-01-01 00:39:00   \n",
       "1             San Francisco  2024-01-01 01:00:00  2024-01-01 03:01:00   \n",
       "2             San Francisco  2024-01-01 02:00:00  2024-01-01 04:48:00   \n",
       "3                   Houston  2024-01-01 03:00:00  2024-01-01 06:42:00   \n",
       "4               Los Angeles  2024-01-01 04:00:00  2024-01-01 05:46:00   \n",
       "\n",
       "   Energy Consumed (kWh)  Charging Duration (hours)  Charging Rate (kW)  \\\n",
       "0              60.712346                   0.591363           36.389181   \n",
       "1              12.339275                   3.133652           30.677735   \n",
       "2              19.128876                   2.452653           27.513593   \n",
       "3              79.457824                   1.266431           32.882870   \n",
       "4              19.629104                   2.019765           10.215712   \n",
       "\n",
       "   Charging Cost (USD) Time of Day Day of Week  State of Charge (Start %)  \\\n",
       "0            13.087717     Evening     Tuesday                  29.371576   \n",
       "1            21.128448     Morning      Monday                  10.115778   \n",
       "2            35.667270     Morning    Thursday                   6.854604   \n",
       "3            13.036239     Evening    Saturday                  83.120003   \n",
       "4            10.161471     Morning    Saturday                  54.258950   \n",
       "\n",
       "   State of Charge (End %)  Distance Driven (since last charge) (km)  \\\n",
       "0                86.119962                                293.602111   \n",
       "1                84.664344                                112.112804   \n",
       "2                69.917615                                 71.799253   \n",
       "3                99.624328                                199.577785   \n",
       "4                63.743786                                203.661847   \n",
       "\n",
       "   Temperature (°C)  Vehicle Age (years)     Charger Type  \\\n",
       "0         27.947953                  2.0  DC Fast Charger   \n",
       "1         14.311026                  3.0          Level 1   \n",
       "2         21.002002                  2.0          Level 2   \n",
       "3         38.316313                  1.0          Level 1   \n",
       "4         -7.834199                  1.0          Level 1   \n",
       "\n",
       "                User Type  \n",
       "0                Commuter  \n",
       "1           Casual Driver  \n",
       "2                Commuter  \n",
       "3  Long-Distance Traveler  \n",
       "4  Long-Distance Traveler  "
      ]
     },
     "execution_count": 4,
     "metadata": {},
     "output_type": "execute_result"
    }
   ],
   "source": [
    "ds_evs.head()"
   ]
  },
  {
   "cell_type": "code",
   "execution_count": 5,
   "metadata": {},
   "outputs": [
    {
     "name": "stdout",
     "output_type": "stream",
     "text": [
      "<class 'pandas.core.frame.DataFrame'>\n",
      "RangeIndex: 1320 entries, 0 to 1319\n",
      "Data columns (total 20 columns):\n",
      " #   Column                                    Non-Null Count  Dtype  \n",
      "---  ------                                    --------------  -----  \n",
      " 0   User ID                                   1320 non-null   object \n",
      " 1   Vehicle Model                             1320 non-null   object \n",
      " 2   Battery Capacity (kWh)                    1320 non-null   float64\n",
      " 3   Charging Station ID                       1320 non-null   object \n",
      " 4   Charging Station Location                 1320 non-null   object \n",
      " 5   Charging Start Time                       1320 non-null   object \n",
      " 6   Charging End Time                         1320 non-null   object \n",
      " 7   Energy Consumed (kWh)                     1254 non-null   float64\n",
      " 8   Charging Duration (hours)                 1320 non-null   float64\n",
      " 9   Charging Rate (kW)                        1254 non-null   float64\n",
      " 10  Charging Cost (USD)                       1320 non-null   float64\n",
      " 11  Time of Day                               1320 non-null   object \n",
      " 12  Day of Week                               1320 non-null   object \n",
      " 13  State of Charge (Start %)                 1320 non-null   float64\n",
      " 14  State of Charge (End %)                   1320 non-null   float64\n",
      " 15  Distance Driven (since last charge) (km)  1254 non-null   float64\n",
      " 16  Temperature (°C)                          1320 non-null   float64\n",
      " 17  Vehicle Age (years)                       1320 non-null   float64\n",
      " 18  Charger Type                              1320 non-null   object \n",
      " 19  User Type                                 1320 non-null   object \n",
      "dtypes: float64(10), object(10)\n",
      "memory usage: 206.4+ KB\n"
     ]
    }
   ],
   "source": [
    "ds_evs.info()"
   ]
  },
  {
   "cell_type": "code",
   "execution_count": 6,
   "metadata": {},
   "outputs": [
    {
     "data": {
      "text/plain": [
       "array(['BMW i3', 'Hyundai Kona', 'Chevy Bolt', 'Nissan Leaf',\n",
       "       'Tesla Model 3'], dtype=object)"
      ]
     },
     "execution_count": 6,
     "metadata": {},
     "output_type": "execute_result"
    }
   ],
   "source": [
    "ds_evs[\"Vehicle Model\"].unique()"
   ]
  },
  {
   "cell_type": "code",
   "execution_count": 7,
   "metadata": {},
   "outputs": [
    {
     "data": {
      "text/plain": [
       "array(['Houston', 'San Francisco', 'Los Angeles', 'Chicago', 'New York'],\n",
       "      dtype=object)"
      ]
     },
     "execution_count": 7,
     "metadata": {},
     "output_type": "execute_result"
    }
   ],
   "source": [
    "ds_evs[\"Charging Station Location\"].unique()"
   ]
  },
  {
   "cell_type": "code",
   "execution_count": 8,
   "metadata": {},
   "outputs": [
    {
     "data": {
      "text/plain": [
       "array(['DC Fast Charger', 'Level 1', 'Level 2'], dtype=object)"
      ]
     },
     "execution_count": 8,
     "metadata": {},
     "output_type": "execute_result"
    }
   ],
   "source": [
    "ds_evs[\"Charger Type\"].unique()"
   ]
  },
  {
   "cell_type": "markdown",
   "metadata": {},
   "source": [
    "### Comenzamos a limpizar y calcular nuevos datos a partir del Data Set principal ###"
   ]
  },
  {
   "cell_type": "code",
   "execution_count": 9,
   "metadata": {},
   "outputs": [
    {
     "name": "stdout",
     "output_type": "stream",
     "text": [
      "datetime64[ns]\n",
      "datetime64[ns]\n"
     ]
    },
    {
     "data": {
      "text/plain": [
       "0        1\n",
       "1        1\n",
       "2        1\n",
       "3        1\n",
       "4        1\n",
       "        ..\n",
       "1315    24\n",
       "1316    24\n",
       "1317    24\n",
       "1318    24\n",
       "1319    24\n",
       "Name: Charging Start Time, Length: 1320, dtype: int32"
      ]
     },
     "execution_count": 9,
     "metadata": {},
     "output_type": "execute_result"
    }
   ],
   "source": [
    "#Pasamos a formato fecha las columnas Charging Start Time y Charging End Time\n",
    "\n",
    "ds_evs[\"Charging Start Time\"] = pd.to_datetime(ds_evs[\"Charging Start Time\"])\n",
    "ds_evs[\"Charging End Time\"] = pd.to_datetime(ds_evs[\"Charging End Time\"])\n",
    "\n",
    "print(ds_evs[\"Charging Start Time\"].dtype)\n",
    "print(ds_evs[\"Charging End Time\"].dtype)\n",
    "\n",
    "ds_evs[\"Charging Start Time\"].dt.day\n",
    "ds_evs[\"Charging Start Time\"].dt.day\n",
    "\n",
    "#Se lee cambiar el formato (\"%d-%m-%Y\") las letras en mayusculas ominusculas dependen de el formato que has puesto en el mes y en el año"
   ]
  },
  {
   "cell_type": "code",
   "execution_count": 10,
   "metadata": {},
   "outputs": [],
   "source": [
    "# Creamos la columnas calculadas con nuevo análisis\n",
    "\n",
    "#Porcentaje de carga registado\n",
    "ds_evs[\"% charged\"] = ds_evs[\"State of Charge (End %)\"] - ds_evs[\"State of Charge (Start %)\"]\n",
    "\n",
    "#coste total de la recarga\n",
    "ds_evs[\"Charging Energy Cost (USD /kW)\"] = ds_evs[\"Charging Cost (USD)\"] / ds_evs[\"Charging Rate (kW)\"]\n",
    "\n",
    "# Calcular eficiencia estimada: km por kWh recargado\n",
    "ds_evs['Efficiency'] = ds_evs['Distance Driven (since last charge) (km)'] / (ds_evs['Battery Capacity (kWh)'] * ds_evs['% charged'] / 100)\n"
   ]
  },
  {
   "cell_type": "code",
   "execution_count": 11,
   "metadata": {},
   "outputs": [
    {
     "data": {
      "text/html": [
       "<div>\n",
       "<style scoped>\n",
       "    .dataframe tbody tr th:only-of-type {\n",
       "        vertical-align: middle;\n",
       "    }\n",
       "\n",
       "    .dataframe tbody tr th {\n",
       "        vertical-align: top;\n",
       "    }\n",
       "\n",
       "    .dataframe thead th {\n",
       "        text-align: right;\n",
       "    }\n",
       "</style>\n",
       "<table border=\"1\" class=\"dataframe\">\n",
       "  <thead>\n",
       "    <tr style=\"text-align: right;\">\n",
       "      <th></th>\n",
       "      <th>User ID</th>\n",
       "      <th>Vehicle Model</th>\n",
       "      <th>Battery Capacity (kWh)</th>\n",
       "      <th>Charging Station ID</th>\n",
       "      <th>Charging Station Location</th>\n",
       "      <th>Charging Start Time</th>\n",
       "      <th>Charging End Time</th>\n",
       "      <th>Energy Consumed (kWh)</th>\n",
       "      <th>Charging Duration (hours)</th>\n",
       "      <th>Charging Rate (kW)</th>\n",
       "      <th>Charging Cost (USD)</th>\n",
       "      <th>Time of Day</th>\n",
       "      <th>Day of Week</th>\n",
       "      <th>State of Charge (Start %)</th>\n",
       "      <th>State of Charge (End %)</th>\n",
       "      <th>Distance Driven (since last charge) (km)</th>\n",
       "      <th>Temperature (°C)</th>\n",
       "      <th>Vehicle Age (years)</th>\n",
       "      <th>Charger Type</th>\n",
       "      <th>User Type</th>\n",
       "      <th>% charged</th>\n",
       "      <th>Charging Energy Cost (USD /kW)</th>\n",
       "      <th>Efficiency</th>\n",
       "    </tr>\n",
       "  </thead>\n",
       "  <tbody>\n",
       "    <tr>\n",
       "      <th>0</th>\n",
       "      <td>User_1</td>\n",
       "      <td>BMW i3</td>\n",
       "      <td>108.463007</td>\n",
       "      <td>Station_391</td>\n",
       "      <td>Houston</td>\n",
       "      <td>2024-01-01 00:00:00</td>\n",
       "      <td>2024-01-01 00:39:00</td>\n",
       "      <td>60.712346</td>\n",
       "      <td>0.591363</td>\n",
       "      <td>36.389181</td>\n",
       "      <td>13.087717</td>\n",
       "      <td>Evening</td>\n",
       "      <td>Tuesday</td>\n",
       "      <td>29.371576</td>\n",
       "      <td>86.119962</td>\n",
       "      <td>293.602111</td>\n",
       "      <td>27.947953</td>\n",
       "      <td>2.0</td>\n",
       "      <td>DC Fast Charger</td>\n",
       "      <td>Commuter</td>\n",
       "      <td>56.748386</td>\n",
       "      <td>0.359660</td>\n",
       "      <td>4.770062</td>\n",
       "    </tr>\n",
       "    <tr>\n",
       "      <th>1</th>\n",
       "      <td>User_2</td>\n",
       "      <td>Hyundai Kona</td>\n",
       "      <td>100.000000</td>\n",
       "      <td>Station_428</td>\n",
       "      <td>San Francisco</td>\n",
       "      <td>2024-01-01 01:00:00</td>\n",
       "      <td>2024-01-01 03:01:00</td>\n",
       "      <td>12.339275</td>\n",
       "      <td>3.133652</td>\n",
       "      <td>30.677735</td>\n",
       "      <td>21.128448</td>\n",
       "      <td>Morning</td>\n",
       "      <td>Monday</td>\n",
       "      <td>10.115778</td>\n",
       "      <td>84.664344</td>\n",
       "      <td>112.112804</td>\n",
       "      <td>14.311026</td>\n",
       "      <td>3.0</td>\n",
       "      <td>Level 1</td>\n",
       "      <td>Casual Driver</td>\n",
       "      <td>74.548566</td>\n",
       "      <td>0.688723</td>\n",
       "      <td>1.503889</td>\n",
       "    </tr>\n",
       "    <tr>\n",
       "      <th>2</th>\n",
       "      <td>User_3</td>\n",
       "      <td>Chevy Bolt</td>\n",
       "      <td>75.000000</td>\n",
       "      <td>Station_181</td>\n",
       "      <td>San Francisco</td>\n",
       "      <td>2024-01-01 02:00:00</td>\n",
       "      <td>2024-01-01 04:48:00</td>\n",
       "      <td>19.128876</td>\n",
       "      <td>2.452653</td>\n",
       "      <td>27.513593</td>\n",
       "      <td>35.667270</td>\n",
       "      <td>Morning</td>\n",
       "      <td>Thursday</td>\n",
       "      <td>6.854604</td>\n",
       "      <td>69.917615</td>\n",
       "      <td>71.799253</td>\n",
       "      <td>21.002002</td>\n",
       "      <td>2.0</td>\n",
       "      <td>Level 2</td>\n",
       "      <td>Commuter</td>\n",
       "      <td>63.063011</td>\n",
       "      <td>1.296351</td>\n",
       "      <td>1.518043</td>\n",
       "    </tr>\n",
       "    <tr>\n",
       "      <th>3</th>\n",
       "      <td>User_4</td>\n",
       "      <td>Hyundai Kona</td>\n",
       "      <td>50.000000</td>\n",
       "      <td>Station_327</td>\n",
       "      <td>Houston</td>\n",
       "      <td>2024-01-01 03:00:00</td>\n",
       "      <td>2024-01-01 06:42:00</td>\n",
       "      <td>79.457824</td>\n",
       "      <td>1.266431</td>\n",
       "      <td>32.882870</td>\n",
       "      <td>13.036239</td>\n",
       "      <td>Evening</td>\n",
       "      <td>Saturday</td>\n",
       "      <td>83.120003</td>\n",
       "      <td>99.624328</td>\n",
       "      <td>199.577785</td>\n",
       "      <td>38.316313</td>\n",
       "      <td>1.0</td>\n",
       "      <td>Level 1</td>\n",
       "      <td>Long-Distance Traveler</td>\n",
       "      <td>16.504325</td>\n",
       "      <td>0.396445</td>\n",
       "      <td>24.184908</td>\n",
       "    </tr>\n",
       "    <tr>\n",
       "      <th>4</th>\n",
       "      <td>User_5</td>\n",
       "      <td>Hyundai Kona</td>\n",
       "      <td>50.000000</td>\n",
       "      <td>Station_108</td>\n",
       "      <td>Los Angeles</td>\n",
       "      <td>2024-01-01 04:00:00</td>\n",
       "      <td>2024-01-01 05:46:00</td>\n",
       "      <td>19.629104</td>\n",
       "      <td>2.019765</td>\n",
       "      <td>10.215712</td>\n",
       "      <td>10.161471</td>\n",
       "      <td>Morning</td>\n",
       "      <td>Saturday</td>\n",
       "      <td>54.258950</td>\n",
       "      <td>63.743786</td>\n",
       "      <td>203.661847</td>\n",
       "      <td>-7.834199</td>\n",
       "      <td>1.0</td>\n",
       "      <td>Level 1</td>\n",
       "      <td>Long-Distance Traveler</td>\n",
       "      <td>9.484836</td>\n",
       "      <td>0.994690</td>\n",
       "      <td>42.944725</td>\n",
       "    </tr>\n",
       "  </tbody>\n",
       "</table>\n",
       "</div>"
      ],
      "text/plain": [
       "  User ID Vehicle Model  Battery Capacity (kWh) Charging Station ID  \\\n",
       "0  User_1        BMW i3              108.463007         Station_391   \n",
       "1  User_2  Hyundai Kona              100.000000         Station_428   \n",
       "2  User_3    Chevy Bolt               75.000000         Station_181   \n",
       "3  User_4  Hyundai Kona               50.000000         Station_327   \n",
       "4  User_5  Hyundai Kona               50.000000         Station_108   \n",
       "\n",
       "  Charging Station Location Charging Start Time   Charging End Time  \\\n",
       "0                   Houston 2024-01-01 00:00:00 2024-01-01 00:39:00   \n",
       "1             San Francisco 2024-01-01 01:00:00 2024-01-01 03:01:00   \n",
       "2             San Francisco 2024-01-01 02:00:00 2024-01-01 04:48:00   \n",
       "3                   Houston 2024-01-01 03:00:00 2024-01-01 06:42:00   \n",
       "4               Los Angeles 2024-01-01 04:00:00 2024-01-01 05:46:00   \n",
       "\n",
       "   Energy Consumed (kWh)  Charging Duration (hours)  Charging Rate (kW)  \\\n",
       "0              60.712346                   0.591363           36.389181   \n",
       "1              12.339275                   3.133652           30.677735   \n",
       "2              19.128876                   2.452653           27.513593   \n",
       "3              79.457824                   1.266431           32.882870   \n",
       "4              19.629104                   2.019765           10.215712   \n",
       "\n",
       "   Charging Cost (USD) Time of Day Day of Week  State of Charge (Start %)  \\\n",
       "0            13.087717     Evening     Tuesday                  29.371576   \n",
       "1            21.128448     Morning      Monday                  10.115778   \n",
       "2            35.667270     Morning    Thursday                   6.854604   \n",
       "3            13.036239     Evening    Saturday                  83.120003   \n",
       "4            10.161471     Morning    Saturday                  54.258950   \n",
       "\n",
       "   State of Charge (End %)  Distance Driven (since last charge) (km)  \\\n",
       "0                86.119962                                293.602111   \n",
       "1                84.664344                                112.112804   \n",
       "2                69.917615                                 71.799253   \n",
       "3                99.624328                                199.577785   \n",
       "4                63.743786                                203.661847   \n",
       "\n",
       "   Temperature (°C)  Vehicle Age (years)     Charger Type  \\\n",
       "0         27.947953                  2.0  DC Fast Charger   \n",
       "1         14.311026                  3.0          Level 1   \n",
       "2         21.002002                  2.0          Level 2   \n",
       "3         38.316313                  1.0          Level 1   \n",
       "4         -7.834199                  1.0          Level 1   \n",
       "\n",
       "                User Type  % charged  Charging Energy Cost (USD /kW)  \\\n",
       "0                Commuter  56.748386                        0.359660   \n",
       "1           Casual Driver  74.548566                        0.688723   \n",
       "2                Commuter  63.063011                        1.296351   \n",
       "3  Long-Distance Traveler  16.504325                        0.396445   \n",
       "4  Long-Distance Traveler   9.484836                        0.994690   \n",
       "\n",
       "   Efficiency  \n",
       "0    4.770062  \n",
       "1    1.503889  \n",
       "2    1.518043  \n",
       "3   24.184908  \n",
       "4   42.944725  "
      ]
     },
     "execution_count": 11,
     "metadata": {},
     "output_type": "execute_result"
    }
   ],
   "source": [
    "#Mostrar todas las columnas\n",
    "pd.set_option('display.max_columns', None)\n",
    "ds_evs.head(5)"
   ]
  },
  {
   "cell_type": "code",
   "execution_count": 12,
   "metadata": {},
   "outputs": [],
   "source": [
    "#Identificas variables numericas y categoricas"
   ]
  },
  {
   "cell_type": "code",
   "execution_count": 13,
   "metadata": {},
   "outputs": [],
   "source": [
    "# En este paso eliminamos los registros cuyo porcentaje de carga total es menor al 0% o mayor al 100%.\n",
    "\n",
    "# Este tipo de registros contienen datos que pueden afectar la calidad de nuestro dataset.\n",
    "# La información pudo haberse registrado incorrectamente, o el proceso de carga del vehículo pudo haber presentado alguno de los siguientes problemas:\n",
    "\n",
    "   #1 - Carga programada o diferida:  Si el coche tiene una carga programada para más tarde está enchufado pero no cargando, y mientras tanto puede usar algo de batería para sistemas internos.\n",
    "   #2 - Consumo de sistemas auxiliares: Algunos sistemas como el climatizador, gestión térmica de la batería, o actualizaciones remotas.\n",
    "   #3 - Problemas con el punto de carga y la corriente suministrada.\n",
    "   #4 - Fallos del coche o del software: fallos en el sistema de gestión de batería (BMS) o bugs de software donde no se activa la carga correctamente aunque estén enchufados.\n",
    "\n",
    "mascara_carga = (ds_evs[\"% charged\"] >= 0) & (ds_evs[\"% charged\"] <= 100)\n",
    "ds_evs_clean = ds_evs[mascara_carga]"
   ]
  },
  {
   "cell_type": "code",
   "execution_count": 14,
   "metadata": {},
   "outputs": [
    {
     "name": "stderr",
     "output_type": "stream",
     "text": [
      "C:\\Users\\Jorge_USR\\AppData\\Local\\Temp\\ipykernel_20772\\3183317605.py:15: SettingWithCopyWarning:\n",
      "\n",
      "\n",
      "A value is trying to be set on a copy of a slice from a DataFrame.\n",
      "Try using .loc[row_indexer,col_indexer] = value instead\n",
      "\n",
      "See the caveats in the documentation: https://pandas.pydata.org/pandas-docs/stable/user_guide/indexing.html#returning-a-view-versus-a-copy\n",
      "\n"
     ]
    },
    {
     "data": {
      "text/html": [
       "<div>\n",
       "<style scoped>\n",
       "    .dataframe tbody tr th:only-of-type {\n",
       "        vertical-align: middle;\n",
       "    }\n",
       "\n",
       "    .dataframe tbody tr th {\n",
       "        vertical-align: top;\n",
       "    }\n",
       "\n",
       "    .dataframe thead th {\n",
       "        text-align: right;\n",
       "    }\n",
       "</style>\n",
       "<table border=\"1\" class=\"dataframe\">\n",
       "  <thead>\n",
       "    <tr style=\"text-align: right;\">\n",
       "      <th></th>\n",
       "      <th>User ID</th>\n",
       "      <th>Vehicle Model</th>\n",
       "      <th>Battery Capacity (kWh)</th>\n",
       "      <th>Charging Station ID</th>\n",
       "      <th>Charging Station Location</th>\n",
       "      <th>Charging Start Time</th>\n",
       "      <th>Charging End Time</th>\n",
       "      <th>Energy Consumed (kWh)</th>\n",
       "      <th>Charging Duration (hours)</th>\n",
       "      <th>Charging Rate (kW)</th>\n",
       "      <th>Charging Cost (USD)</th>\n",
       "      <th>Time of Day</th>\n",
       "      <th>Day of Week</th>\n",
       "      <th>State of Charge (Start %)</th>\n",
       "      <th>State of Charge (End %)</th>\n",
       "      <th>Distance Driven (since last charge) (km)</th>\n",
       "      <th>Temperature (°C)</th>\n",
       "      <th>Vehicle Age (years)</th>\n",
       "      <th>Charger Type</th>\n",
       "      <th>User Type</th>\n",
       "      <th>% charged</th>\n",
       "      <th>Charging Energy Cost (USD /kW)</th>\n",
       "      <th>Efficiency</th>\n",
       "      <th>Coordinates city</th>\n",
       "    </tr>\n",
       "  </thead>\n",
       "  <tbody>\n",
       "    <tr>\n",
       "      <th>0</th>\n",
       "      <td>User_1</td>\n",
       "      <td>BMW i3</td>\n",
       "      <td>108.463007</td>\n",
       "      <td>Station_391</td>\n",
       "      <td>Houston</td>\n",
       "      <td>2024-01-01 00:00:00</td>\n",
       "      <td>2024-01-01 00:39:00</td>\n",
       "      <td>60.712346</td>\n",
       "      <td>0.591363</td>\n",
       "      <td>36.389181</td>\n",
       "      <td>13.087717</td>\n",
       "      <td>Evening</td>\n",
       "      <td>Tuesday</td>\n",
       "      <td>29.371576</td>\n",
       "      <td>86.119962</td>\n",
       "      <td>293.602111</td>\n",
       "      <td>27.947953</td>\n",
       "      <td>2.0</td>\n",
       "      <td>DC Fast Charger</td>\n",
       "      <td>Commuter</td>\n",
       "      <td>56.748386</td>\n",
       "      <td>0.359660</td>\n",
       "      <td>4.770062</td>\n",
       "      <td>(29.7604, -95.3698)</td>\n",
       "    </tr>\n",
       "    <tr>\n",
       "      <th>1</th>\n",
       "      <td>User_2</td>\n",
       "      <td>Hyundai Kona</td>\n",
       "      <td>100.000000</td>\n",
       "      <td>Station_428</td>\n",
       "      <td>San Francisco</td>\n",
       "      <td>2024-01-01 01:00:00</td>\n",
       "      <td>2024-01-01 03:01:00</td>\n",
       "      <td>12.339275</td>\n",
       "      <td>3.133652</td>\n",
       "      <td>30.677735</td>\n",
       "      <td>21.128448</td>\n",
       "      <td>Morning</td>\n",
       "      <td>Monday</td>\n",
       "      <td>10.115778</td>\n",
       "      <td>84.664344</td>\n",
       "      <td>112.112804</td>\n",
       "      <td>14.311026</td>\n",
       "      <td>3.0</td>\n",
       "      <td>Level 1</td>\n",
       "      <td>Casual Driver</td>\n",
       "      <td>74.548566</td>\n",
       "      <td>0.688723</td>\n",
       "      <td>1.503889</td>\n",
       "      <td>(37.7749, -122.4194)</td>\n",
       "    </tr>\n",
       "    <tr>\n",
       "      <th>2</th>\n",
       "      <td>User_3</td>\n",
       "      <td>Chevy Bolt</td>\n",
       "      <td>75.000000</td>\n",
       "      <td>Station_181</td>\n",
       "      <td>San Francisco</td>\n",
       "      <td>2024-01-01 02:00:00</td>\n",
       "      <td>2024-01-01 04:48:00</td>\n",
       "      <td>19.128876</td>\n",
       "      <td>2.452653</td>\n",
       "      <td>27.513593</td>\n",
       "      <td>35.667270</td>\n",
       "      <td>Morning</td>\n",
       "      <td>Thursday</td>\n",
       "      <td>6.854604</td>\n",
       "      <td>69.917615</td>\n",
       "      <td>71.799253</td>\n",
       "      <td>21.002002</td>\n",
       "      <td>2.0</td>\n",
       "      <td>Level 2</td>\n",
       "      <td>Commuter</td>\n",
       "      <td>63.063011</td>\n",
       "      <td>1.296351</td>\n",
       "      <td>1.518043</td>\n",
       "      <td>(37.7749, -122.4194)</td>\n",
       "    </tr>\n",
       "    <tr>\n",
       "      <th>3</th>\n",
       "      <td>User_4</td>\n",
       "      <td>Hyundai Kona</td>\n",
       "      <td>50.000000</td>\n",
       "      <td>Station_327</td>\n",
       "      <td>Houston</td>\n",
       "      <td>2024-01-01 03:00:00</td>\n",
       "      <td>2024-01-01 06:42:00</td>\n",
       "      <td>79.457824</td>\n",
       "      <td>1.266431</td>\n",
       "      <td>32.882870</td>\n",
       "      <td>13.036239</td>\n",
       "      <td>Evening</td>\n",
       "      <td>Saturday</td>\n",
       "      <td>83.120003</td>\n",
       "      <td>99.624328</td>\n",
       "      <td>199.577785</td>\n",
       "      <td>38.316313</td>\n",
       "      <td>1.0</td>\n",
       "      <td>Level 1</td>\n",
       "      <td>Long-Distance Traveler</td>\n",
       "      <td>16.504325</td>\n",
       "      <td>0.396445</td>\n",
       "      <td>24.184908</td>\n",
       "      <td>(29.7604, -95.3698)</td>\n",
       "    </tr>\n",
       "    <tr>\n",
       "      <th>4</th>\n",
       "      <td>User_5</td>\n",
       "      <td>Hyundai Kona</td>\n",
       "      <td>50.000000</td>\n",
       "      <td>Station_108</td>\n",
       "      <td>Los Angeles</td>\n",
       "      <td>2024-01-01 04:00:00</td>\n",
       "      <td>2024-01-01 05:46:00</td>\n",
       "      <td>19.629104</td>\n",
       "      <td>2.019765</td>\n",
       "      <td>10.215712</td>\n",
       "      <td>10.161471</td>\n",
       "      <td>Morning</td>\n",
       "      <td>Saturday</td>\n",
       "      <td>54.258950</td>\n",
       "      <td>63.743786</td>\n",
       "      <td>203.661847</td>\n",
       "      <td>-7.834199</td>\n",
       "      <td>1.0</td>\n",
       "      <td>Level 1</td>\n",
       "      <td>Long-Distance Traveler</td>\n",
       "      <td>9.484836</td>\n",
       "      <td>0.994690</td>\n",
       "      <td>42.944725</td>\n",
       "      <td>(34.0522, -118.2437)</td>\n",
       "    </tr>\n",
       "  </tbody>\n",
       "</table>\n",
       "</div>"
      ],
      "text/plain": [
       "  User ID Vehicle Model  Battery Capacity (kWh) Charging Station ID  \\\n",
       "0  User_1        BMW i3              108.463007         Station_391   \n",
       "1  User_2  Hyundai Kona              100.000000         Station_428   \n",
       "2  User_3    Chevy Bolt               75.000000         Station_181   \n",
       "3  User_4  Hyundai Kona               50.000000         Station_327   \n",
       "4  User_5  Hyundai Kona               50.000000         Station_108   \n",
       "\n",
       "  Charging Station Location Charging Start Time   Charging End Time  \\\n",
       "0                   Houston 2024-01-01 00:00:00 2024-01-01 00:39:00   \n",
       "1             San Francisco 2024-01-01 01:00:00 2024-01-01 03:01:00   \n",
       "2             San Francisco 2024-01-01 02:00:00 2024-01-01 04:48:00   \n",
       "3                   Houston 2024-01-01 03:00:00 2024-01-01 06:42:00   \n",
       "4               Los Angeles 2024-01-01 04:00:00 2024-01-01 05:46:00   \n",
       "\n",
       "   Energy Consumed (kWh)  Charging Duration (hours)  Charging Rate (kW)  \\\n",
       "0              60.712346                   0.591363           36.389181   \n",
       "1              12.339275                   3.133652           30.677735   \n",
       "2              19.128876                   2.452653           27.513593   \n",
       "3              79.457824                   1.266431           32.882870   \n",
       "4              19.629104                   2.019765           10.215712   \n",
       "\n",
       "   Charging Cost (USD) Time of Day Day of Week  State of Charge (Start %)  \\\n",
       "0            13.087717     Evening     Tuesday                  29.371576   \n",
       "1            21.128448     Morning      Monday                  10.115778   \n",
       "2            35.667270     Morning    Thursday                   6.854604   \n",
       "3            13.036239     Evening    Saturday                  83.120003   \n",
       "4            10.161471     Morning    Saturday                  54.258950   \n",
       "\n",
       "   State of Charge (End %)  Distance Driven (since last charge) (km)  \\\n",
       "0                86.119962                                293.602111   \n",
       "1                84.664344                                112.112804   \n",
       "2                69.917615                                 71.799253   \n",
       "3                99.624328                                199.577785   \n",
       "4                63.743786                                203.661847   \n",
       "\n",
       "   Temperature (°C)  Vehicle Age (years)     Charger Type  \\\n",
       "0         27.947953                  2.0  DC Fast Charger   \n",
       "1         14.311026                  3.0          Level 1   \n",
       "2         21.002002                  2.0          Level 2   \n",
       "3         38.316313                  1.0          Level 1   \n",
       "4         -7.834199                  1.0          Level 1   \n",
       "\n",
       "                User Type  % charged  Charging Energy Cost (USD /kW)  \\\n",
       "0                Commuter  56.748386                        0.359660   \n",
       "1           Casual Driver  74.548566                        0.688723   \n",
       "2                Commuter  63.063011                        1.296351   \n",
       "3  Long-Distance Traveler  16.504325                        0.396445   \n",
       "4  Long-Distance Traveler   9.484836                        0.994690   \n",
       "\n",
       "   Efficiency      Coordinates city  \n",
       "0    4.770062   (29.7604, -95.3698)  \n",
       "1    1.503889  (37.7749, -122.4194)  \n",
       "2    1.518043  (37.7749, -122.4194)  \n",
       "3   24.184908   (29.7604, -95.3698)  \n",
       "4   42.944725  (34.0522, -118.2437)  "
      ]
     },
     "execution_count": 14,
     "metadata": {},
     "output_type": "execute_result"
    }
   ],
   "source": [
    "#Creamos una columna con las coordenadas de la ciudad, para poder realizar posteriormente un mapa con los datos registrados\n",
    "\n",
    "#1 creamos diccionarios con las coordenadas de las fiudades:\n",
    "\n",
    "coordenadas = {\n",
    "    \"Houston\": (29.7604, -95.3698),\n",
    "    \"San Francisco\": (37.7749, -122.4194),\n",
    "    \"Los Angeles\": (34.0522, -118.2437),\n",
    "    \"Chicago\": (41.8781, -87.6298),\n",
    "    \"New York\": (40.7128, -74.0060)\n",
    "}\n",
    "\n",
    "#2 Columna nueva juntando las coordenadas en una misma celda\n",
    "\n",
    "ds_evs_clean[\"Coordinates city\"] = ds_evs_clean[\"Charging Station Location\"].map(coordenadas)\n",
    "\n",
    "#Vemos los cambios\n",
    "ds_evs_clean.head(5)\n"
   ]
  },
  {
   "cell_type": "code",
   "execution_count": 15,
   "metadata": {},
   "outputs": [
    {
     "name": "stdout",
     "output_type": "stream",
     "text": [
      "<class 'pandas.core.frame.DataFrame'>\n",
      "Index: 1046 entries, 0 to 1317\n",
      "Data columns (total 24 columns):\n",
      " #   Column                                    Non-Null Count  Dtype         \n",
      "---  ------                                    --------------  -----         \n",
      " 0   User ID                                   1046 non-null   object        \n",
      " 1   Vehicle Model                             1046 non-null   object        \n",
      " 2   Battery Capacity (kWh)                    1046 non-null   float64       \n",
      " 3   Charging Station ID                       1046 non-null   object        \n",
      " 4   Charging Station Location                 1046 non-null   object        \n",
      " 5   Charging Start Time                       1046 non-null   datetime64[ns]\n",
      " 6   Charging End Time                         1046 non-null   datetime64[ns]\n",
      " 7   Energy Consumed (kWh)                     987 non-null    float64       \n",
      " 8   Charging Duration (hours)                 1046 non-null   float64       \n",
      " 9   Charging Rate (kW)                        993 non-null    float64       \n",
      " 10  Charging Cost (USD)                       1046 non-null   float64       \n",
      " 11  Time of Day                               1046 non-null   object        \n",
      " 12  Day of Week                               1046 non-null   object        \n",
      " 13  State of Charge (Start %)                 1046 non-null   float64       \n",
      " 14  State of Charge (End %)                   1046 non-null   float64       \n",
      " 15  Distance Driven (since last charge) (km)  991 non-null    float64       \n",
      " 16  Temperature (°C)                          1046 non-null   float64       \n",
      " 17  Vehicle Age (years)                       1046 non-null   float64       \n",
      " 18  Charger Type                              1046 non-null   object        \n",
      " 19  User Type                                 1046 non-null   object        \n",
      " 20  % charged                                 1046 non-null   float64       \n",
      " 21  Charging Energy Cost (USD /kW)            993 non-null    float64       \n",
      " 22  Efficiency                                991 non-null    float64       \n",
      " 23  Coordinates city                          1046 non-null   object        \n",
      "dtypes: datetime64[ns](2), float64(13), object(9)\n",
      "memory usage: 204.3+ KB\n"
     ]
    }
   ],
   "source": [
    "#Info del data set limpio y con las nuevas columnas\n",
    "\n",
    "ds_evs_clean.info()"
   ]
  },
  {
   "cell_type": "code",
   "execution_count": 16,
   "metadata": {},
   "outputs": [],
   "source": [
    "#Clasificación de las diferentes variables que componen el Data Set EVs:\n",
    "\n",
    "# Variables numéricas (float64)\n",
    "variables_numericas = [\n",
    "    \"Battery Capacity (kWh)\",\n",
    "    \"Energy Consumed (kWh)\",\n",
    "    \"Charging Duration (hours)\",\n",
    "    \"Charging Rate (kW)\",\n",
    "    \"Charging Cost (USD)\",\n",
    "    \"State of Charge (Start %)\",\n",
    "    \"State of Charge (End %)\",\n",
    "    \"Distance Driven (since last charge) (km)\",\n",
    "    \"Temperature (°C)\",\n",
    "    \"Vehicle Age (years)\",\n",
    "    \"% charged\",\n",
    "    \"Charging Energy Cost (USD /kW)\", \n",
    "    \"Efficiency\"\n",
    "]\n",
    "\n",
    "# Variables categóricas (object)\n",
    "variables_categoricas = [\n",
    "    \"User ID\",\n",
    "    \"Vehicle Model\",\n",
    "    \"Charging Station ID\",\n",
    "    \"Charging Station Location\",\n",
    "    \"Time of Day\",\n",
    "    \"Day of Week\",\n",
    "    \"Charger Type\",\n",
    "    \"User Type\",\n",
    "    \"Coordinates city\"\n",
    "]\n",
    "\n",
    "# Variables temporales (datetime64[ns])\n",
    "variables_temporales = [\n",
    "    \"Charging Start Time\",\n",
    "    \"Charging End Time\"\n",
    "]"
   ]
  },
  {
   "cell_type": "markdown",
   "metadata": {},
   "source": [
    "Importo el Data Set de densidad de población"
   ]
  },
  {
   "cell_type": "code",
   "execution_count": 17,
   "metadata": {},
   "outputs": [
    {
     "data": {
      "text/html": [
       "<div>\n",
       "<style scoped>\n",
       "    .dataframe tbody tr th:only-of-type {\n",
       "        vertical-align: middle;\n",
       "    }\n",
       "\n",
       "    .dataframe tbody tr th {\n",
       "        vertical-align: top;\n",
       "    }\n",
       "\n",
       "    .dataframe thead th {\n",
       "        text-align: right;\n",
       "    }\n",
       "</style>\n",
       "<table border=\"1\" class=\"dataframe\">\n",
       "  <thead>\n",
       "    <tr style=\"text-align: right;\">\n",
       "      <th></th>\n",
       "      <th>City</th>\n",
       "      <th>Population Density (people/km²)</th>\n",
       "    </tr>\n",
       "  </thead>\n",
       "  <tbody>\n",
       "    <tr>\n",
       "      <th>0</th>\n",
       "      <td>New York City</td>\n",
       "      <td>10896</td>\n",
       "    </tr>\n",
       "    <tr>\n",
       "      <th>1</th>\n",
       "      <td>Chicago</td>\n",
       "      <td>4656</td>\n",
       "    </tr>\n",
       "    <tr>\n",
       "      <th>2</th>\n",
       "      <td>Los Angeles</td>\n",
       "      <td>3180</td>\n",
       "    </tr>\n",
       "    <tr>\n",
       "      <th>3</th>\n",
       "      <td>San Francisco</td>\n",
       "      <td>2642</td>\n",
       "    </tr>\n",
       "    <tr>\n",
       "      <th>4</th>\n",
       "      <td>Houston</td>\n",
       "      <td>1400</td>\n",
       "    </tr>\n",
       "  </tbody>\n",
       "</table>\n",
       "</div>"
      ],
      "text/plain": [
       "            City  Population Density (people/km²)\n",
       "0  New York City                            10896\n",
       "1        Chicago                             4656\n",
       "2    Los Angeles                             3180\n",
       "3  San Francisco                             2642\n",
       "4        Houston                             1400"
      ]
     },
     "execution_count": 17,
     "metadata": {},
     "output_type": "execute_result"
    }
   ],
   "source": [
    "#importamo el data set de densidad de población\n",
    "\n",
    "ds_population = pd.read_csv('./Recursos/city_population_density.csv')\n",
    "ds_population.head(5)"
   ]
  },
  {
   "cell_type": "code",
   "execution_count": 18,
   "metadata": {},
   "outputs": [],
   "source": [
    "#Creamos una columna con las coordenadas de la ciudad, para poder realizar posteriormente un mapa con los datos registrados\n",
    "\n",
    "#1 creamos diccionarios con las coordenadas de las fiudades:\n",
    "\n",
    "coordenadas = {\n",
    "    \"Houston\": (29.7604, -95.3698),\n",
    "    \"San Francisco\": (37.7749, -122.4194),\n",
    "    \"Los Angeles\": (34.0522, -118.2437),\n",
    "    \"Chicago\": (41.8781, -87.6298),\n",
    "    \"New York City\": (40.7128, -74.0060)\n",
    "}\n",
    "\n",
    "#2 Columna nueva juntando las coordenadas en una misma celda\n",
    "\n",
    "ds_population[\"Coordinates city\"] = ds_population[\"City\"].map(coordenadas)"
   ]
  },
  {
   "cell_type": "code",
   "execution_count": 19,
   "metadata": {},
   "outputs": [
    {
     "data": {
      "text/html": [
       "<div>\n",
       "<style scoped>\n",
       "    .dataframe tbody tr th:only-of-type {\n",
       "        vertical-align: middle;\n",
       "    }\n",
       "\n",
       "    .dataframe tbody tr th {\n",
       "        vertical-align: top;\n",
       "    }\n",
       "\n",
       "    .dataframe thead th {\n",
       "        text-align: right;\n",
       "    }\n",
       "</style>\n",
       "<table border=\"1\" class=\"dataframe\">\n",
       "  <thead>\n",
       "    <tr style=\"text-align: right;\">\n",
       "      <th></th>\n",
       "      <th>City</th>\n",
       "      <th>Population Density (people/km²)</th>\n",
       "      <th>Coordinates city</th>\n",
       "      <th>Total kW supplied</th>\n",
       "    </tr>\n",
       "  </thead>\n",
       "  <tbody>\n",
       "    <tr>\n",
       "      <th>0</th>\n",
       "      <td>New York City</td>\n",
       "      <td>10896</td>\n",
       "      <td>(40.7128, -74.006)</td>\n",
       "      <td>5076.359343</td>\n",
       "    </tr>\n",
       "    <tr>\n",
       "      <th>1</th>\n",
       "      <td>Chicago</td>\n",
       "      <td>4656</td>\n",
       "      <td>(41.8781, -87.6298)</td>\n",
       "      <td>4841.254587</td>\n",
       "    </tr>\n",
       "    <tr>\n",
       "      <th>2</th>\n",
       "      <td>Los Angeles</td>\n",
       "      <td>3180</td>\n",
       "      <td>(34.0522, -118.2437)</td>\n",
       "      <td>5342.723070</td>\n",
       "    </tr>\n",
       "    <tr>\n",
       "      <th>3</th>\n",
       "      <td>San Francisco</td>\n",
       "      <td>2642</td>\n",
       "      <td>(37.7749, -122.4194)</td>\n",
       "      <td>5182.255187</td>\n",
       "    </tr>\n",
       "    <tr>\n",
       "      <th>4</th>\n",
       "      <td>Houston</td>\n",
       "      <td>1400</td>\n",
       "      <td>(29.7604, -95.3698)</td>\n",
       "      <td>5206.961676</td>\n",
       "    </tr>\n",
       "  </tbody>\n",
       "</table>\n",
       "</div>"
      ],
      "text/plain": [
       "            City  Population Density (people/km²)      Coordinates city  \\\n",
       "0  New York City                            10896    (40.7128, -74.006)   \n",
       "1        Chicago                             4656   (41.8781, -87.6298)   \n",
       "2    Los Angeles                             3180  (34.0522, -118.2437)   \n",
       "3  San Francisco                             2642  (37.7749, -122.4194)   \n",
       "4        Houston                             1400   (29.7604, -95.3698)   \n",
       "\n",
       "   Total kW supplied  \n",
       "0        5076.359343  \n",
       "1        4841.254587  \n",
       "2        5342.723070  \n",
       "3        5182.255187  \n",
       "4        5206.961676  "
      ]
     },
     "execution_count": 19,
     "metadata": {},
     "output_type": "execute_result"
    }
   ],
   "source": [
    "#añadimos una columna que me de la suma total de kW suministrados en dicha ciudad\n",
    "\n",
    "kw_per_city = ds_evs_clean.groupby(\"Coordinates city\")[\"Charging Rate (kW)\"].sum()\n",
    "\n",
    "ds_population[\"Total kW supplied\"] = ds_population[\"Coordinates city\"].map(kw_per_city)\n",
    "\n",
    "ds_population.head(5)\n",
    "\n",
    "#Realozar un mapa de burbujar con estos datos"
   ]
  },
  {
   "cell_type": "code",
   "execution_count": null,
   "metadata": {},
   "outputs": [],
   "source": []
  },
  {
   "cell_type": "markdown",
   "metadata": {},
   "source": [
    "### Análisis gráfico ###"
   ]
  },
  {
   "cell_type": "code",
   "execution_count": 20,
   "metadata": {},
   "outputs": [
    {
     "data": {
      "application/vnd.plotly.v1+json": {
       "config": {
        "linkText": "Export to plot.ly",
        "plotlyServerURL": "https://plot.ly",
        "showLink": false
       },
       "data": [
        {
         "hovertemplate": [
          "Tesla Model 3<br>21.22% (222 cargas)",
          "Hyundai Kona<br>20.84% (218 cargas)",
          "Nissan Leaf<br>19.89% (208 cargas)",
          "Chevy Bolt<br>19.12% (200 cargas)",
          "BMW i3<br>18.93% (198 cargas)"
         ],
         "insidetextanchor": "middle",
         "text": [
          "21.22%",
          "20.84%",
          "19.89%",
          "19.12%",
          "18.93%"
         ],
         "textposition": "outside",
         "type": "bar",
         "x": [
          "Tesla Model 3",
          "Hyundai Kona",
          "Nissan Leaf",
          "Chevy Bolt",
          "BMW i3"
         ],
         "y": {
          "bdata": "uB6F61E4NUDXo3A9Ctc0QKRwPQrX4zNAH4XrUbgeM0CuR+F6FO4yQA==",
          "dtype": "f8"
         }
        }
       ],
       "layout": {
        "height": 600,
        "margin": {
         "b": 100
        },
        "template": {
         "data": {
          "bar": [
           {
            "error_x": {
             "color": "#2a3f5f"
            },
            "error_y": {
             "color": "#2a3f5f"
            },
            "marker": {
             "line": {
              "color": "white",
              "width": 0.5
             },
             "pattern": {
              "fillmode": "overlay",
              "size": 10,
              "solidity": 0.2
             }
            },
            "type": "bar"
           }
          ],
          "barpolar": [
           {
            "marker": {
             "line": {
              "color": "white",
              "width": 0.5
             },
             "pattern": {
              "fillmode": "overlay",
              "size": 10,
              "solidity": 0.2
             }
            },
            "type": "barpolar"
           }
          ],
          "carpet": [
           {
            "aaxis": {
             "endlinecolor": "#2a3f5f",
             "gridcolor": "#C8D4E3",
             "linecolor": "#C8D4E3",
             "minorgridcolor": "#C8D4E3",
             "startlinecolor": "#2a3f5f"
            },
            "baxis": {
             "endlinecolor": "#2a3f5f",
             "gridcolor": "#C8D4E3",
             "linecolor": "#C8D4E3",
             "minorgridcolor": "#C8D4E3",
             "startlinecolor": "#2a3f5f"
            },
            "type": "carpet"
           }
          ],
          "choropleth": [
           {
            "colorbar": {
             "outlinewidth": 0,
             "ticks": ""
            },
            "type": "choropleth"
           }
          ],
          "contour": [
           {
            "colorbar": {
             "outlinewidth": 0,
             "ticks": ""
            },
            "colorscale": [
             [
              0,
              "#0d0887"
             ],
             [
              0.1111111111111111,
              "#46039f"
             ],
             [
              0.2222222222222222,
              "#7201a8"
             ],
             [
              0.3333333333333333,
              "#9c179e"
             ],
             [
              0.4444444444444444,
              "#bd3786"
             ],
             [
              0.5555555555555556,
              "#d8576b"
             ],
             [
              0.6666666666666666,
              "#ed7953"
             ],
             [
              0.7777777777777778,
              "#fb9f3a"
             ],
             [
              0.8888888888888888,
              "#fdca26"
             ],
             [
              1,
              "#f0f921"
             ]
            ],
            "type": "contour"
           }
          ],
          "contourcarpet": [
           {
            "colorbar": {
             "outlinewidth": 0,
             "ticks": ""
            },
            "type": "contourcarpet"
           }
          ],
          "heatmap": [
           {
            "colorbar": {
             "outlinewidth": 0,
             "ticks": ""
            },
            "colorscale": [
             [
              0,
              "#0d0887"
             ],
             [
              0.1111111111111111,
              "#46039f"
             ],
             [
              0.2222222222222222,
              "#7201a8"
             ],
             [
              0.3333333333333333,
              "#9c179e"
             ],
             [
              0.4444444444444444,
              "#bd3786"
             ],
             [
              0.5555555555555556,
              "#d8576b"
             ],
             [
              0.6666666666666666,
              "#ed7953"
             ],
             [
              0.7777777777777778,
              "#fb9f3a"
             ],
             [
              0.8888888888888888,
              "#fdca26"
             ],
             [
              1,
              "#f0f921"
             ]
            ],
            "type": "heatmap"
           }
          ],
          "histogram": [
           {
            "marker": {
             "pattern": {
              "fillmode": "overlay",
              "size": 10,
              "solidity": 0.2
             }
            },
            "type": "histogram"
           }
          ],
          "histogram2d": [
           {
            "colorbar": {
             "outlinewidth": 0,
             "ticks": ""
            },
            "colorscale": [
             [
              0,
              "#0d0887"
             ],
             [
              0.1111111111111111,
              "#46039f"
             ],
             [
              0.2222222222222222,
              "#7201a8"
             ],
             [
              0.3333333333333333,
              "#9c179e"
             ],
             [
              0.4444444444444444,
              "#bd3786"
             ],
             [
              0.5555555555555556,
              "#d8576b"
             ],
             [
              0.6666666666666666,
              "#ed7953"
             ],
             [
              0.7777777777777778,
              "#fb9f3a"
             ],
             [
              0.8888888888888888,
              "#fdca26"
             ],
             [
              1,
              "#f0f921"
             ]
            ],
            "type": "histogram2d"
           }
          ],
          "histogram2dcontour": [
           {
            "colorbar": {
             "outlinewidth": 0,
             "ticks": ""
            },
            "colorscale": [
             [
              0,
              "#0d0887"
             ],
             [
              0.1111111111111111,
              "#46039f"
             ],
             [
              0.2222222222222222,
              "#7201a8"
             ],
             [
              0.3333333333333333,
              "#9c179e"
             ],
             [
              0.4444444444444444,
              "#bd3786"
             ],
             [
              0.5555555555555556,
              "#d8576b"
             ],
             [
              0.6666666666666666,
              "#ed7953"
             ],
             [
              0.7777777777777778,
              "#fb9f3a"
             ],
             [
              0.8888888888888888,
              "#fdca26"
             ],
             [
              1,
              "#f0f921"
             ]
            ],
            "type": "histogram2dcontour"
           }
          ],
          "mesh3d": [
           {
            "colorbar": {
             "outlinewidth": 0,
             "ticks": ""
            },
            "type": "mesh3d"
           }
          ],
          "parcoords": [
           {
            "line": {
             "colorbar": {
              "outlinewidth": 0,
              "ticks": ""
             }
            },
            "type": "parcoords"
           }
          ],
          "pie": [
           {
            "automargin": true,
            "type": "pie"
           }
          ],
          "scatter": [
           {
            "fillpattern": {
             "fillmode": "overlay",
             "size": 10,
             "solidity": 0.2
            },
            "type": "scatter"
           }
          ],
          "scatter3d": [
           {
            "line": {
             "colorbar": {
              "outlinewidth": 0,
              "ticks": ""
             }
            },
            "marker": {
             "colorbar": {
              "outlinewidth": 0,
              "ticks": ""
             }
            },
            "type": "scatter3d"
           }
          ],
          "scattercarpet": [
           {
            "marker": {
             "colorbar": {
              "outlinewidth": 0,
              "ticks": ""
             }
            },
            "type": "scattercarpet"
           }
          ],
          "scattergeo": [
           {
            "marker": {
             "colorbar": {
              "outlinewidth": 0,
              "ticks": ""
             }
            },
            "type": "scattergeo"
           }
          ],
          "scattergl": [
           {
            "marker": {
             "colorbar": {
              "outlinewidth": 0,
              "ticks": ""
             }
            },
            "type": "scattergl"
           }
          ],
          "scattermap": [
           {
            "marker": {
             "colorbar": {
              "outlinewidth": 0,
              "ticks": ""
             }
            },
            "type": "scattermap"
           }
          ],
          "scattermapbox": [
           {
            "marker": {
             "colorbar": {
              "outlinewidth": 0,
              "ticks": ""
             }
            },
            "type": "scattermapbox"
           }
          ],
          "scatterpolar": [
           {
            "marker": {
             "colorbar": {
              "outlinewidth": 0,
              "ticks": ""
             }
            },
            "type": "scatterpolar"
           }
          ],
          "scatterpolargl": [
           {
            "marker": {
             "colorbar": {
              "outlinewidth": 0,
              "ticks": ""
             }
            },
            "type": "scatterpolargl"
           }
          ],
          "scatterternary": [
           {
            "marker": {
             "colorbar": {
              "outlinewidth": 0,
              "ticks": ""
             }
            },
            "type": "scatterternary"
           }
          ],
          "surface": [
           {
            "colorbar": {
             "outlinewidth": 0,
             "ticks": ""
            },
            "colorscale": [
             [
              0,
              "#0d0887"
             ],
             [
              0.1111111111111111,
              "#46039f"
             ],
             [
              0.2222222222222222,
              "#7201a8"
             ],
             [
              0.3333333333333333,
              "#9c179e"
             ],
             [
              0.4444444444444444,
              "#bd3786"
             ],
             [
              0.5555555555555556,
              "#d8576b"
             ],
             [
              0.6666666666666666,
              "#ed7953"
             ],
             [
              0.7777777777777778,
              "#fb9f3a"
             ],
             [
              0.8888888888888888,
              "#fdca26"
             ],
             [
              1,
              "#f0f921"
             ]
            ],
            "type": "surface"
           }
          ],
          "table": [
           {
            "cells": {
             "fill": {
              "color": "#EBF0F8"
             },
             "line": {
              "color": "white"
             }
            },
            "header": {
             "fill": {
              "color": "#C8D4E3"
             },
             "line": {
              "color": "white"
             }
            },
            "type": "table"
           }
          ]
         },
         "layout": {
          "annotationdefaults": {
           "arrowcolor": "#2a3f5f",
           "arrowhead": 0,
           "arrowwidth": 1
          },
          "autotypenumbers": "strict",
          "coloraxis": {
           "colorbar": {
            "outlinewidth": 0,
            "ticks": ""
           }
          },
          "colorscale": {
           "diverging": [
            [
             0,
             "#8e0152"
            ],
            [
             0.1,
             "#c51b7d"
            ],
            [
             0.2,
             "#de77ae"
            ],
            [
             0.3,
             "#f1b6da"
            ],
            [
             0.4,
             "#fde0ef"
            ],
            [
             0.5,
             "#f7f7f7"
            ],
            [
             0.6,
             "#e6f5d0"
            ],
            [
             0.7,
             "#b8e186"
            ],
            [
             0.8,
             "#7fbc41"
            ],
            [
             0.9,
             "#4d9221"
            ],
            [
             1,
             "#276419"
            ]
           ],
           "sequential": [
            [
             0,
             "#0d0887"
            ],
            [
             0.1111111111111111,
             "#46039f"
            ],
            [
             0.2222222222222222,
             "#7201a8"
            ],
            [
             0.3333333333333333,
             "#9c179e"
            ],
            [
             0.4444444444444444,
             "#bd3786"
            ],
            [
             0.5555555555555556,
             "#d8576b"
            ],
            [
             0.6666666666666666,
             "#ed7953"
            ],
            [
             0.7777777777777778,
             "#fb9f3a"
            ],
            [
             0.8888888888888888,
             "#fdca26"
            ],
            [
             1,
             "#f0f921"
            ]
           ],
           "sequentialminus": [
            [
             0,
             "#0d0887"
            ],
            [
             0.1111111111111111,
             "#46039f"
            ],
            [
             0.2222222222222222,
             "#7201a8"
            ],
            [
             0.3333333333333333,
             "#9c179e"
            ],
            [
             0.4444444444444444,
             "#bd3786"
            ],
            [
             0.5555555555555556,
             "#d8576b"
            ],
            [
             0.6666666666666666,
             "#ed7953"
            ],
            [
             0.7777777777777778,
             "#fb9f3a"
            ],
            [
             0.8888888888888888,
             "#fdca26"
            ],
            [
             1,
             "#f0f921"
            ]
           ]
          },
          "colorway": [
           "#636efa",
           "#EF553B",
           "#00cc96",
           "#ab63fa",
           "#FFA15A",
           "#19d3f3",
           "#FF6692",
           "#B6E880",
           "#FF97FF",
           "#FECB52"
          ],
          "font": {
           "color": "#2a3f5f"
          },
          "geo": {
           "bgcolor": "white",
           "lakecolor": "white",
           "landcolor": "white",
           "showlakes": true,
           "showland": true,
           "subunitcolor": "#C8D4E3"
          },
          "hoverlabel": {
           "align": "left"
          },
          "hovermode": "closest",
          "mapbox": {
           "style": "light"
          },
          "paper_bgcolor": "white",
          "plot_bgcolor": "white",
          "polar": {
           "angularaxis": {
            "gridcolor": "#EBF0F8",
            "linecolor": "#EBF0F8",
            "ticks": ""
           },
           "bgcolor": "white",
           "radialaxis": {
            "gridcolor": "#EBF0F8",
            "linecolor": "#EBF0F8",
            "ticks": ""
           }
          },
          "scene": {
           "xaxis": {
            "backgroundcolor": "white",
            "gridcolor": "#DFE8F3",
            "gridwidth": 2,
            "linecolor": "#EBF0F8",
            "showbackground": true,
            "ticks": "",
            "zerolinecolor": "#EBF0F8"
           },
           "yaxis": {
            "backgroundcolor": "white",
            "gridcolor": "#DFE8F3",
            "gridwidth": 2,
            "linecolor": "#EBF0F8",
            "showbackground": true,
            "ticks": "",
            "zerolinecolor": "#EBF0F8"
           },
           "zaxis": {
            "backgroundcolor": "white",
            "gridcolor": "#DFE8F3",
            "gridwidth": 2,
            "linecolor": "#EBF0F8",
            "showbackground": true,
            "ticks": "",
            "zerolinecolor": "#EBF0F8"
           }
          },
          "shapedefaults": {
           "line": {
            "color": "#2a3f5f"
           }
          },
          "ternary": {
           "aaxis": {
            "gridcolor": "#DFE8F3",
            "linecolor": "#A2B1C6",
            "ticks": ""
           },
           "baxis": {
            "gridcolor": "#DFE8F3",
            "linecolor": "#A2B1C6",
            "ticks": ""
           },
           "bgcolor": "white",
           "caxis": {
            "gridcolor": "#DFE8F3",
            "linecolor": "#A2B1C6",
            "ticks": ""
           }
          },
          "title": {
           "x": 0.05
          },
          "xaxis": {
           "automargin": true,
           "gridcolor": "#EBF0F8",
           "linecolor": "#EBF0F8",
           "ticks": "",
           "title": {
            "standoff": 15
           },
           "zerolinecolor": "#EBF0F8",
           "zerolinewidth": 2
          },
          "yaxis": {
           "automargin": true,
           "gridcolor": "#EBF0F8",
           "linecolor": "#EBF0F8",
           "ticks": "",
           "title": {
            "standoff": 15
           },
           "zerolinecolor": "#EBF0F8",
           "zerolinewidth": 2
          }
         }
        },
        "title": {
         "text": "Porcentaje de cargas por modelo de vehículo"
        },
        "width": 800,
        "xaxis": {
         "title": {
          "text": "Modelo de vehículo"
         }
        },
        "yaxis": {
         "gridcolor": "lightgray",
         "gridwidth": 1,
         "showgrid": true,
         "title": {
          "text": "Porcentaje de cargas (%)"
         }
        }
       }
      }
     },
     "metadata": {},
     "output_type": "display_data"
    }
   ],
   "source": [
    "# Calcular datos\n",
    "model_counts = ds_evs_clean['Vehicle Model'].value_counts()\n",
    "total_cargas = model_counts.sum()\n",
    "model_percentages = (model_counts / total_cargas * 100).round(2)\n",
    "\n",
    "trace = go.Bar(\n",
    "    x=model_counts.index,\n",
    "    y=model_percentages.values,\n",
    "    text=[f'{pct:.2f}%' for pct in model_percentages],\n",
    "    textposition='outside',\n",
    "    insidetextanchor='middle',\n",
    "    # textfont: puedes dejar el color o quitar para que use el default\n",
    "    hovertemplate=[\n",
    "        f'{model}<br>{pct:.2f}% ({count} cargas)' \n",
    "        for model, pct, count in zip(model_counts.index, model_percentages, model_counts)\n",
    "    ],\n",
    "    # No asignamos marker.color ni line para heredar colores template\n",
    ")\n",
    "\n",
    "layout = go.Layout(\n",
    "    title='Porcentaje de cargas por modelo de vehículo',\n",
    "    xaxis=dict(title='Modelo de vehículo'),\n",
    "    yaxis=dict(title='Porcentaje de cargas (%)',\n",
    "        showgrid=True,\n",
    "        gridcolor='lightgray',\n",
    "        gridwidth=1),\n",
    "    margin=dict(b=100),\n",
    "    width=800,\n",
    "    height=600,\n",
    "    template='plotly_white'  # Aquí va el template\n",
    ")\n",
    "\n",
    "fig = go.Figure(data=[trace], layout=layout)\n",
    "iplot(fig)\n",
    "\n",
    "\n"
   ]
  },
  {
   "cell_type": "markdown",
   "metadata": {},
   "source": [
    "Comparación de modelos de coche en función a las cargas realizadas:\n",
    "\n",
    "- Tesla Model 3 es el más cargado (21.22%), pero solo ligeramente más que Hyundai Kona (20.84%) y Nissan Leaf (19.89%)."
   ]
  },
  {
   "cell_type": "code",
   "execution_count": 21,
   "metadata": {},
   "outputs": [
    {
     "name": "stdout",
     "output_type": "stream",
     "text": [
      "❌ Gráfico que muestra el porcentaje (%) total de cargas que se realiza en cada una de las ciudades registradas por las estaciones de carga\n"
     ]
    },
    {
     "data": {
      "application/vnd.plotly.v1+json": {
       "config": {
        "linkText": "Export to plot.ly",
        "plotlyServerURL": "https://plot.ly",
        "showLink": false
       },
       "data": [
        {
         "hovertemplate": [
          "Los Angeles<br>21.32% (223 cargas)",
          "San Francisco<br>20.94% (219 cargas)",
          "Houston<br>19.50% (204 cargas)",
          "New York<br>19.31% (202 cargas)",
          "Chicago<br>18.93% (198 cargas)"
         ],
         "insidetextanchor": "middle",
         "text": [
          "21.32%",
          "20.94%",
          "19.50%",
          "19.31%",
          "18.93%"
         ],
         "textfont": {
          "color": "#07032b"
         },
         "textposition": "outside",
         "type": "bar",
         "x": [
          "Los Angeles",
          "San Francisco",
          "Houston",
          "New York",
          "Chicago"
         ],
         "y": {
          "bdata": "UrgehetRNUBxPQrXo/A0QAAAAAAAgDNAj8L1KFxPM0CuR+F6FO4yQA==",
          "dtype": "f8"
         }
        }
       ],
       "layout": {
        "height": 600,
        "margin": {
         "b": 100
        },
        "paper_bgcolor": "#ffffff",
        "plot_bgcolor": "#ffffff",
        "template": {
         "data": {
          "bar": [
           {
            "error_x": {
             "color": "#2a3f5f"
            },
            "error_y": {
             "color": "#2a3f5f"
            },
            "marker": {
             "line": {
              "color": "#E5ECF6",
              "width": 0.5
             },
             "pattern": {
              "fillmode": "overlay",
              "size": 10,
              "solidity": 0.2
             }
            },
            "type": "bar"
           }
          ],
          "barpolar": [
           {
            "marker": {
             "line": {
              "color": "#E5ECF6",
              "width": 0.5
             },
             "pattern": {
              "fillmode": "overlay",
              "size": 10,
              "solidity": 0.2
             }
            },
            "type": "barpolar"
           }
          ],
          "carpet": [
           {
            "aaxis": {
             "endlinecolor": "#2a3f5f",
             "gridcolor": "white",
             "linecolor": "white",
             "minorgridcolor": "white",
             "startlinecolor": "#2a3f5f"
            },
            "baxis": {
             "endlinecolor": "#2a3f5f",
             "gridcolor": "white",
             "linecolor": "white",
             "minorgridcolor": "white",
             "startlinecolor": "#2a3f5f"
            },
            "type": "carpet"
           }
          ],
          "choropleth": [
           {
            "colorbar": {
             "outlinewidth": 0,
             "ticks": ""
            },
            "type": "choropleth"
           }
          ],
          "contour": [
           {
            "colorbar": {
             "outlinewidth": 0,
             "ticks": ""
            },
            "colorscale": [
             [
              0,
              "#0d0887"
             ],
             [
              0.1111111111111111,
              "#46039f"
             ],
             [
              0.2222222222222222,
              "#7201a8"
             ],
             [
              0.3333333333333333,
              "#9c179e"
             ],
             [
              0.4444444444444444,
              "#bd3786"
             ],
             [
              0.5555555555555556,
              "#d8576b"
             ],
             [
              0.6666666666666666,
              "#ed7953"
             ],
             [
              0.7777777777777778,
              "#fb9f3a"
             ],
             [
              0.8888888888888888,
              "#fdca26"
             ],
             [
              1,
              "#f0f921"
             ]
            ],
            "type": "contour"
           }
          ],
          "contourcarpet": [
           {
            "colorbar": {
             "outlinewidth": 0,
             "ticks": ""
            },
            "type": "contourcarpet"
           }
          ],
          "heatmap": [
           {
            "colorbar": {
             "outlinewidth": 0,
             "ticks": ""
            },
            "colorscale": [
             [
              0,
              "#0d0887"
             ],
             [
              0.1111111111111111,
              "#46039f"
             ],
             [
              0.2222222222222222,
              "#7201a8"
             ],
             [
              0.3333333333333333,
              "#9c179e"
             ],
             [
              0.4444444444444444,
              "#bd3786"
             ],
             [
              0.5555555555555556,
              "#d8576b"
             ],
             [
              0.6666666666666666,
              "#ed7953"
             ],
             [
              0.7777777777777778,
              "#fb9f3a"
             ],
             [
              0.8888888888888888,
              "#fdca26"
             ],
             [
              1,
              "#f0f921"
             ]
            ],
            "type": "heatmap"
           }
          ],
          "histogram": [
           {
            "marker": {
             "pattern": {
              "fillmode": "overlay",
              "size": 10,
              "solidity": 0.2
             }
            },
            "type": "histogram"
           }
          ],
          "histogram2d": [
           {
            "colorbar": {
             "outlinewidth": 0,
             "ticks": ""
            },
            "colorscale": [
             [
              0,
              "#0d0887"
             ],
             [
              0.1111111111111111,
              "#46039f"
             ],
             [
              0.2222222222222222,
              "#7201a8"
             ],
             [
              0.3333333333333333,
              "#9c179e"
             ],
             [
              0.4444444444444444,
              "#bd3786"
             ],
             [
              0.5555555555555556,
              "#d8576b"
             ],
             [
              0.6666666666666666,
              "#ed7953"
             ],
             [
              0.7777777777777778,
              "#fb9f3a"
             ],
             [
              0.8888888888888888,
              "#fdca26"
             ],
             [
              1,
              "#f0f921"
             ]
            ],
            "type": "histogram2d"
           }
          ],
          "histogram2dcontour": [
           {
            "colorbar": {
             "outlinewidth": 0,
             "ticks": ""
            },
            "colorscale": [
             [
              0,
              "#0d0887"
             ],
             [
              0.1111111111111111,
              "#46039f"
             ],
             [
              0.2222222222222222,
              "#7201a8"
             ],
             [
              0.3333333333333333,
              "#9c179e"
             ],
             [
              0.4444444444444444,
              "#bd3786"
             ],
             [
              0.5555555555555556,
              "#d8576b"
             ],
             [
              0.6666666666666666,
              "#ed7953"
             ],
             [
              0.7777777777777778,
              "#fb9f3a"
             ],
             [
              0.8888888888888888,
              "#fdca26"
             ],
             [
              1,
              "#f0f921"
             ]
            ],
            "type": "histogram2dcontour"
           }
          ],
          "mesh3d": [
           {
            "colorbar": {
             "outlinewidth": 0,
             "ticks": ""
            },
            "type": "mesh3d"
           }
          ],
          "parcoords": [
           {
            "line": {
             "colorbar": {
              "outlinewidth": 0,
              "ticks": ""
             }
            },
            "type": "parcoords"
           }
          ],
          "pie": [
           {
            "automargin": true,
            "type": "pie"
           }
          ],
          "scatter": [
           {
            "fillpattern": {
             "fillmode": "overlay",
             "size": 10,
             "solidity": 0.2
            },
            "type": "scatter"
           }
          ],
          "scatter3d": [
           {
            "line": {
             "colorbar": {
              "outlinewidth": 0,
              "ticks": ""
             }
            },
            "marker": {
             "colorbar": {
              "outlinewidth": 0,
              "ticks": ""
             }
            },
            "type": "scatter3d"
           }
          ],
          "scattercarpet": [
           {
            "marker": {
             "colorbar": {
              "outlinewidth": 0,
              "ticks": ""
             }
            },
            "type": "scattercarpet"
           }
          ],
          "scattergeo": [
           {
            "marker": {
             "colorbar": {
              "outlinewidth": 0,
              "ticks": ""
             }
            },
            "type": "scattergeo"
           }
          ],
          "scattergl": [
           {
            "marker": {
             "colorbar": {
              "outlinewidth": 0,
              "ticks": ""
             }
            },
            "type": "scattergl"
           }
          ],
          "scattermap": [
           {
            "marker": {
             "colorbar": {
              "outlinewidth": 0,
              "ticks": ""
             }
            },
            "type": "scattermap"
           }
          ],
          "scattermapbox": [
           {
            "marker": {
             "colorbar": {
              "outlinewidth": 0,
              "ticks": ""
             }
            },
            "type": "scattermapbox"
           }
          ],
          "scatterpolar": [
           {
            "marker": {
             "colorbar": {
              "outlinewidth": 0,
              "ticks": ""
             }
            },
            "type": "scatterpolar"
           }
          ],
          "scatterpolargl": [
           {
            "marker": {
             "colorbar": {
              "outlinewidth": 0,
              "ticks": ""
             }
            },
            "type": "scatterpolargl"
           }
          ],
          "scatterternary": [
           {
            "marker": {
             "colorbar": {
              "outlinewidth": 0,
              "ticks": ""
             }
            },
            "type": "scatterternary"
           }
          ],
          "surface": [
           {
            "colorbar": {
             "outlinewidth": 0,
             "ticks": ""
            },
            "colorscale": [
             [
              0,
              "#0d0887"
             ],
             [
              0.1111111111111111,
              "#46039f"
             ],
             [
              0.2222222222222222,
              "#7201a8"
             ],
             [
              0.3333333333333333,
              "#9c179e"
             ],
             [
              0.4444444444444444,
              "#bd3786"
             ],
             [
              0.5555555555555556,
              "#d8576b"
             ],
             [
              0.6666666666666666,
              "#ed7953"
             ],
             [
              0.7777777777777778,
              "#fb9f3a"
             ],
             [
              0.8888888888888888,
              "#fdca26"
             ],
             [
              1,
              "#f0f921"
             ]
            ],
            "type": "surface"
           }
          ],
          "table": [
           {
            "cells": {
             "fill": {
              "color": "#EBF0F8"
             },
             "line": {
              "color": "white"
             }
            },
            "header": {
             "fill": {
              "color": "#C8D4E3"
             },
             "line": {
              "color": "white"
             }
            },
            "type": "table"
           }
          ]
         },
         "layout": {
          "annotationdefaults": {
           "arrowcolor": "#2a3f5f",
           "arrowhead": 0,
           "arrowwidth": 1
          },
          "autotypenumbers": "strict",
          "coloraxis": {
           "colorbar": {
            "outlinewidth": 0,
            "ticks": ""
           }
          },
          "colorscale": {
           "diverging": [
            [
             0,
             "#8e0152"
            ],
            [
             0.1,
             "#c51b7d"
            ],
            [
             0.2,
             "#de77ae"
            ],
            [
             0.3,
             "#f1b6da"
            ],
            [
             0.4,
             "#fde0ef"
            ],
            [
             0.5,
             "#f7f7f7"
            ],
            [
             0.6,
             "#e6f5d0"
            ],
            [
             0.7,
             "#b8e186"
            ],
            [
             0.8,
             "#7fbc41"
            ],
            [
             0.9,
             "#4d9221"
            ],
            [
             1,
             "#276419"
            ]
           ],
           "sequential": [
            [
             0,
             "#0d0887"
            ],
            [
             0.1111111111111111,
             "#46039f"
            ],
            [
             0.2222222222222222,
             "#7201a8"
            ],
            [
             0.3333333333333333,
             "#9c179e"
            ],
            [
             0.4444444444444444,
             "#bd3786"
            ],
            [
             0.5555555555555556,
             "#d8576b"
            ],
            [
             0.6666666666666666,
             "#ed7953"
            ],
            [
             0.7777777777777778,
             "#fb9f3a"
            ],
            [
             0.8888888888888888,
             "#fdca26"
            ],
            [
             1,
             "#f0f921"
            ]
           ],
           "sequentialminus": [
            [
             0,
             "#0d0887"
            ],
            [
             0.1111111111111111,
             "#46039f"
            ],
            [
             0.2222222222222222,
             "#7201a8"
            ],
            [
             0.3333333333333333,
             "#9c179e"
            ],
            [
             0.4444444444444444,
             "#bd3786"
            ],
            [
             0.5555555555555556,
             "#d8576b"
            ],
            [
             0.6666666666666666,
             "#ed7953"
            ],
            [
             0.7777777777777778,
             "#fb9f3a"
            ],
            [
             0.8888888888888888,
             "#fdca26"
            ],
            [
             1,
             "#f0f921"
            ]
           ]
          },
          "colorway": [
           "#636efa",
           "#EF553B",
           "#00cc96",
           "#ab63fa",
           "#FFA15A",
           "#19d3f3",
           "#FF6692",
           "#B6E880",
           "#FF97FF",
           "#FECB52"
          ],
          "font": {
           "color": "#2a3f5f"
          },
          "geo": {
           "bgcolor": "white",
           "lakecolor": "white",
           "landcolor": "#E5ECF6",
           "showlakes": true,
           "showland": true,
           "subunitcolor": "white"
          },
          "hoverlabel": {
           "align": "left"
          },
          "hovermode": "closest",
          "mapbox": {
           "style": "light"
          },
          "paper_bgcolor": "white",
          "plot_bgcolor": "#E5ECF6",
          "polar": {
           "angularaxis": {
            "gridcolor": "white",
            "linecolor": "white",
            "ticks": ""
           },
           "bgcolor": "#E5ECF6",
           "radialaxis": {
            "gridcolor": "white",
            "linecolor": "white",
            "ticks": ""
           }
          },
          "scene": {
           "xaxis": {
            "backgroundcolor": "#E5ECF6",
            "gridcolor": "white",
            "gridwidth": 2,
            "linecolor": "white",
            "showbackground": true,
            "ticks": "",
            "zerolinecolor": "white"
           },
           "yaxis": {
            "backgroundcolor": "#E5ECF6",
            "gridcolor": "white",
            "gridwidth": 2,
            "linecolor": "white",
            "showbackground": true,
            "ticks": "",
            "zerolinecolor": "white"
           },
           "zaxis": {
            "backgroundcolor": "#E5ECF6",
            "gridcolor": "white",
            "gridwidth": 2,
            "linecolor": "white",
            "showbackground": true,
            "ticks": "",
            "zerolinecolor": "white"
           }
          },
          "shapedefaults": {
           "line": {
            "color": "#2a3f5f"
           }
          },
          "ternary": {
           "aaxis": {
            "gridcolor": "white",
            "linecolor": "white",
            "ticks": ""
           },
           "baxis": {
            "gridcolor": "white",
            "linecolor": "white",
            "ticks": ""
           },
           "bgcolor": "#E5ECF6",
           "caxis": {
            "gridcolor": "white",
            "linecolor": "white",
            "ticks": ""
           }
          },
          "title": {
           "x": 0.05
          },
          "xaxis": {
           "automargin": true,
           "gridcolor": "white",
           "linecolor": "white",
           "ticks": "",
           "title": {
            "standoff": 15
           },
           "zerolinecolor": "white",
           "zerolinewidth": 2
          },
          "yaxis": {
           "automargin": true,
           "gridcolor": "white",
           "linecolor": "white",
           "ticks": "",
           "title": {
            "standoff": 15
           },
           "zerolinecolor": "white",
           "zerolinewidth": 2
          }
         }
        },
        "title": {
         "text": "Porcentaje de cargas por localización (ciudad)"
        },
        "width": 800,
        "xaxis": {
         "title": {
          "text": "Localización de la carga"
         }
        },
        "yaxis": {
         "gridcolor": "lightgray",
         "gridwidth": 1,
         "showgrid": true,
         "title": {
          "text": "Porcentaje de localización (%)"
         }
        }
       }
      }
     },
     "metadata": {},
     "output_type": "display_data"
    }
   ],
   "source": [
    "# Calcular datos\n",
    "location_counts = ds_evs_clean['Charging Station Location'].value_counts()\n",
    "total_locations = location_counts.sum()\n",
    "location_percentages = (location_counts / total_locations * 100).round(2)\n",
    "\n",
    "# Crear barra con color personalizado\n",
    "trace = go.Bar(\n",
    "    x=location_counts.index,\n",
    "    y=location_percentages.values,\n",
    "    text=[f'{pct:.2f}%' for pct in location_percentages],  # corregido aquí\n",
    "    textposition='outside',\n",
    "    insidetextanchor='middle',\n",
    "    textfont=dict(color='#07032b'),\n",
    "    hovertemplate=[\n",
    "        f'{location}<br>{pct:.2f}% ({count} cargas)' \n",
    "        for location, pct, count in zip(location_counts.index, location_percentages, location_counts)\n",
    "    ])\n",
    "\n",
    "\n",
    "# Layout con tamaño ajustado\n",
    "layout = go.Layout(\n",
    "    title='Porcentaje de cargas por localización (ciudad)',\n",
    "    xaxis=dict(title='Localización de la carga'),\n",
    "    yaxis=dict(title='Porcentaje de localización (%)', \n",
    "               showgrid=True,\n",
    "               gridcolor='lightgray',\n",
    "               gridwidth=1),\n",
    "    margin=dict(b=100),\n",
    "    width=800,\n",
    "    height=600,\n",
    "    plot_bgcolor=\"#ffffff\",\n",
    "    paper_bgcolor='#ffffff'\n",
    ")\n",
    "\n",
    "fig = go.Figure(data=[trace], layout=layout)\n",
    "\n",
    "print(\"❌ Gráfico que muestra el porcentaje (%) total de cargas que se realiza en cada una de las ciudades registradas por las estaciones de carga\")\n",
    "\n",
    "iplot(fig);\n"
   ]
  },
  {
   "cell_type": "code",
   "execution_count": 22,
   "metadata": {},
   "outputs": [
    {
     "name": "stdout",
     "output_type": "stream",
     "text": [
      "✔️ Este gráfico muestra el porcentaje total de carga en cada ciudad y a su vez el porcentaje total de cargas por cada modelo de vehículo\n"
     ]
    },
    {
     "data": {
      "application/vnd.plotly.v1+json": {
       "config": {
        "linkText": "Export to plot.ly",
        "plotlyServerURL": "https://plot.ly",
        "showLink": false
       },
       "data": [
        {
         "hovertemplate": "%{x}<br>Modelo: BMW i3<br>% Cargas: %{y:.2f}%",
         "marker": {
          "color": "#81C4FF"
         },
         "name": "BMW i3",
         "type": "bar",
         "x": [
          "Chicago",
          "Houston",
          "Los Angeles",
          "New York",
          "San Francisco"
         ],
         "y": {
          "bdata": "+YygKCcQDUDWHuOQiFsPQNYe45CIWw9A0h+dnfoACkBa2JL8dNMQQA==",
          "dtype": "f8"
         }
        },
        {
         "hovertemplate": "%{x}<br>Modelo: Chevy Bolt<br>% Cargas: %{y:.2f}%",
         "marker": {
          "color": "#c5b358"
         },
         "name": "Chevy Bolt",
         "type": "bar",
         "x": [
          "Chicago",
          "Houston",
          "Los Angeles",
          "New York",
          "San Francisco"
         ],
         "y": {
          "bdata": "ZdYe45CIC0Ab+13AxcQKQIJFloeh4hNAqbKZEs7xBkBJIbSwJfkRQA==",
          "dtype": "f8"
         }
        },
        {
         "hovertemplate": "%{x}<br>Modelo: Hyundai Kona<br>% Cargas: %{y:.2f}%",
         "marker": {
          "color": "#00287A"
         },
         "name": "Hyundai Kona",
         "type": "bar",
         "x": [
          "Chicago",
          "Houston",
          "Los Angeles",
          "New York",
          "San Francisco"
         ],
         "y": {
          "bdata": "Q2hhS/LTDUBa2JL8dNMQQO6OFEILWxJAWtiS/HTTEEC1ajJrj3EQQA==",
          "dtype": "f8"
         }
        },
        {
         "hovertemplate": "%{x}<br>Modelo: Nissan Leaf<br>% Cargas: %{y:.2f}%",
         "marker": {
          "color": "#efefef"
         },
         "name": "Nissan Leaf",
         "type": "bar",
         "x": [
          "Chicago",
          "Houston",
          "Los Angeles",
          "New York",
          "San Francisco"
         ],
         "y": {
          "bdata": "ZdYe45CIC0DujhRCC1sSQP9F841aNRFA1h7jkIhbD0D5jKAoJxANQA==",
          "dtype": "f8"
         }
        },
        {
         "hovertemplate": "%{x}<br>Modelo: Tesla Model 3<br>% Cargas: %{y:.2f}%",
         "marker": {
          "color": "#CC0000"
         },
         "name": "Tesla Model 3",
         "type": "bar",
         "x": [
          "Chicago",
          "Houston",
          "Los Angeles",
          "New York",
          "San Francisco"
         ],
         "y": {
          "bdata": "k/x00/C8EkBl1h7jkIgLQK6x3wVcTAxAJ7P2GIdEFEBJIbSwJfkRQA==",
          "dtype": "f8"
         }
        }
       ],
       "layout": {
        "barmode": "stack",
        "height": 600,
        "paper_bgcolor": "#ffffff",
        "plot_bgcolor": "#ffffff",
        "template": {
         "data": {
          "bar": [
           {
            "error_x": {
             "color": "#2a3f5f"
            },
            "error_y": {
             "color": "#2a3f5f"
            },
            "marker": {
             "line": {
              "color": "#E5ECF6",
              "width": 0.5
             },
             "pattern": {
              "fillmode": "overlay",
              "size": 10,
              "solidity": 0.2
             }
            },
            "type": "bar"
           }
          ],
          "barpolar": [
           {
            "marker": {
             "line": {
              "color": "#E5ECF6",
              "width": 0.5
             },
             "pattern": {
              "fillmode": "overlay",
              "size": 10,
              "solidity": 0.2
             }
            },
            "type": "barpolar"
           }
          ],
          "carpet": [
           {
            "aaxis": {
             "endlinecolor": "#2a3f5f",
             "gridcolor": "white",
             "linecolor": "white",
             "minorgridcolor": "white",
             "startlinecolor": "#2a3f5f"
            },
            "baxis": {
             "endlinecolor": "#2a3f5f",
             "gridcolor": "white",
             "linecolor": "white",
             "minorgridcolor": "white",
             "startlinecolor": "#2a3f5f"
            },
            "type": "carpet"
           }
          ],
          "choropleth": [
           {
            "colorbar": {
             "outlinewidth": 0,
             "ticks": ""
            },
            "type": "choropleth"
           }
          ],
          "contour": [
           {
            "colorbar": {
             "outlinewidth": 0,
             "ticks": ""
            },
            "colorscale": [
             [
              0,
              "#0d0887"
             ],
             [
              0.1111111111111111,
              "#46039f"
             ],
             [
              0.2222222222222222,
              "#7201a8"
             ],
             [
              0.3333333333333333,
              "#9c179e"
             ],
             [
              0.4444444444444444,
              "#bd3786"
             ],
             [
              0.5555555555555556,
              "#d8576b"
             ],
             [
              0.6666666666666666,
              "#ed7953"
             ],
             [
              0.7777777777777778,
              "#fb9f3a"
             ],
             [
              0.8888888888888888,
              "#fdca26"
             ],
             [
              1,
              "#f0f921"
             ]
            ],
            "type": "contour"
           }
          ],
          "contourcarpet": [
           {
            "colorbar": {
             "outlinewidth": 0,
             "ticks": ""
            },
            "type": "contourcarpet"
           }
          ],
          "heatmap": [
           {
            "colorbar": {
             "outlinewidth": 0,
             "ticks": ""
            },
            "colorscale": [
             [
              0,
              "#0d0887"
             ],
             [
              0.1111111111111111,
              "#46039f"
             ],
             [
              0.2222222222222222,
              "#7201a8"
             ],
             [
              0.3333333333333333,
              "#9c179e"
             ],
             [
              0.4444444444444444,
              "#bd3786"
             ],
             [
              0.5555555555555556,
              "#d8576b"
             ],
             [
              0.6666666666666666,
              "#ed7953"
             ],
             [
              0.7777777777777778,
              "#fb9f3a"
             ],
             [
              0.8888888888888888,
              "#fdca26"
             ],
             [
              1,
              "#f0f921"
             ]
            ],
            "type": "heatmap"
           }
          ],
          "histogram": [
           {
            "marker": {
             "pattern": {
              "fillmode": "overlay",
              "size": 10,
              "solidity": 0.2
             }
            },
            "type": "histogram"
           }
          ],
          "histogram2d": [
           {
            "colorbar": {
             "outlinewidth": 0,
             "ticks": ""
            },
            "colorscale": [
             [
              0,
              "#0d0887"
             ],
             [
              0.1111111111111111,
              "#46039f"
             ],
             [
              0.2222222222222222,
              "#7201a8"
             ],
             [
              0.3333333333333333,
              "#9c179e"
             ],
             [
              0.4444444444444444,
              "#bd3786"
             ],
             [
              0.5555555555555556,
              "#d8576b"
             ],
             [
              0.6666666666666666,
              "#ed7953"
             ],
             [
              0.7777777777777778,
              "#fb9f3a"
             ],
             [
              0.8888888888888888,
              "#fdca26"
             ],
             [
              1,
              "#f0f921"
             ]
            ],
            "type": "histogram2d"
           }
          ],
          "histogram2dcontour": [
           {
            "colorbar": {
             "outlinewidth": 0,
             "ticks": ""
            },
            "colorscale": [
             [
              0,
              "#0d0887"
             ],
             [
              0.1111111111111111,
              "#46039f"
             ],
             [
              0.2222222222222222,
              "#7201a8"
             ],
             [
              0.3333333333333333,
              "#9c179e"
             ],
             [
              0.4444444444444444,
              "#bd3786"
             ],
             [
              0.5555555555555556,
              "#d8576b"
             ],
             [
              0.6666666666666666,
              "#ed7953"
             ],
             [
              0.7777777777777778,
              "#fb9f3a"
             ],
             [
              0.8888888888888888,
              "#fdca26"
             ],
             [
              1,
              "#f0f921"
             ]
            ],
            "type": "histogram2dcontour"
           }
          ],
          "mesh3d": [
           {
            "colorbar": {
             "outlinewidth": 0,
             "ticks": ""
            },
            "type": "mesh3d"
           }
          ],
          "parcoords": [
           {
            "line": {
             "colorbar": {
              "outlinewidth": 0,
              "ticks": ""
             }
            },
            "type": "parcoords"
           }
          ],
          "pie": [
           {
            "automargin": true,
            "type": "pie"
           }
          ],
          "scatter": [
           {
            "fillpattern": {
             "fillmode": "overlay",
             "size": 10,
             "solidity": 0.2
            },
            "type": "scatter"
           }
          ],
          "scatter3d": [
           {
            "line": {
             "colorbar": {
              "outlinewidth": 0,
              "ticks": ""
             }
            },
            "marker": {
             "colorbar": {
              "outlinewidth": 0,
              "ticks": ""
             }
            },
            "type": "scatter3d"
           }
          ],
          "scattercarpet": [
           {
            "marker": {
             "colorbar": {
              "outlinewidth": 0,
              "ticks": ""
             }
            },
            "type": "scattercarpet"
           }
          ],
          "scattergeo": [
           {
            "marker": {
             "colorbar": {
              "outlinewidth": 0,
              "ticks": ""
             }
            },
            "type": "scattergeo"
           }
          ],
          "scattergl": [
           {
            "marker": {
             "colorbar": {
              "outlinewidth": 0,
              "ticks": ""
             }
            },
            "type": "scattergl"
           }
          ],
          "scattermap": [
           {
            "marker": {
             "colorbar": {
              "outlinewidth": 0,
              "ticks": ""
             }
            },
            "type": "scattermap"
           }
          ],
          "scattermapbox": [
           {
            "marker": {
             "colorbar": {
              "outlinewidth": 0,
              "ticks": ""
             }
            },
            "type": "scattermapbox"
           }
          ],
          "scatterpolar": [
           {
            "marker": {
             "colorbar": {
              "outlinewidth": 0,
              "ticks": ""
             }
            },
            "type": "scatterpolar"
           }
          ],
          "scatterpolargl": [
           {
            "marker": {
             "colorbar": {
              "outlinewidth": 0,
              "ticks": ""
             }
            },
            "type": "scatterpolargl"
           }
          ],
          "scatterternary": [
           {
            "marker": {
             "colorbar": {
              "outlinewidth": 0,
              "ticks": ""
             }
            },
            "type": "scatterternary"
           }
          ],
          "surface": [
           {
            "colorbar": {
             "outlinewidth": 0,
             "ticks": ""
            },
            "colorscale": [
             [
              0,
              "#0d0887"
             ],
             [
              0.1111111111111111,
              "#46039f"
             ],
             [
              0.2222222222222222,
              "#7201a8"
             ],
             [
              0.3333333333333333,
              "#9c179e"
             ],
             [
              0.4444444444444444,
              "#bd3786"
             ],
             [
              0.5555555555555556,
              "#d8576b"
             ],
             [
              0.6666666666666666,
              "#ed7953"
             ],
             [
              0.7777777777777778,
              "#fb9f3a"
             ],
             [
              0.8888888888888888,
              "#fdca26"
             ],
             [
              1,
              "#f0f921"
             ]
            ],
            "type": "surface"
           }
          ],
          "table": [
           {
            "cells": {
             "fill": {
              "color": "#EBF0F8"
             },
             "line": {
              "color": "white"
             }
            },
            "header": {
             "fill": {
              "color": "#C8D4E3"
             },
             "line": {
              "color": "white"
             }
            },
            "type": "table"
           }
          ]
         },
         "layout": {
          "annotationdefaults": {
           "arrowcolor": "#2a3f5f",
           "arrowhead": 0,
           "arrowwidth": 1
          },
          "autotypenumbers": "strict",
          "coloraxis": {
           "colorbar": {
            "outlinewidth": 0,
            "ticks": ""
           }
          },
          "colorscale": {
           "diverging": [
            [
             0,
             "#8e0152"
            ],
            [
             0.1,
             "#c51b7d"
            ],
            [
             0.2,
             "#de77ae"
            ],
            [
             0.3,
             "#f1b6da"
            ],
            [
             0.4,
             "#fde0ef"
            ],
            [
             0.5,
             "#f7f7f7"
            ],
            [
             0.6,
             "#e6f5d0"
            ],
            [
             0.7,
             "#b8e186"
            ],
            [
             0.8,
             "#7fbc41"
            ],
            [
             0.9,
             "#4d9221"
            ],
            [
             1,
             "#276419"
            ]
           ],
           "sequential": [
            [
             0,
             "#0d0887"
            ],
            [
             0.1111111111111111,
             "#46039f"
            ],
            [
             0.2222222222222222,
             "#7201a8"
            ],
            [
             0.3333333333333333,
             "#9c179e"
            ],
            [
             0.4444444444444444,
             "#bd3786"
            ],
            [
             0.5555555555555556,
             "#d8576b"
            ],
            [
             0.6666666666666666,
             "#ed7953"
            ],
            [
             0.7777777777777778,
             "#fb9f3a"
            ],
            [
             0.8888888888888888,
             "#fdca26"
            ],
            [
             1,
             "#f0f921"
            ]
           ],
           "sequentialminus": [
            [
             0,
             "#0d0887"
            ],
            [
             0.1111111111111111,
             "#46039f"
            ],
            [
             0.2222222222222222,
             "#7201a8"
            ],
            [
             0.3333333333333333,
             "#9c179e"
            ],
            [
             0.4444444444444444,
             "#bd3786"
            ],
            [
             0.5555555555555556,
             "#d8576b"
            ],
            [
             0.6666666666666666,
             "#ed7953"
            ],
            [
             0.7777777777777778,
             "#fb9f3a"
            ],
            [
             0.8888888888888888,
             "#fdca26"
            ],
            [
             1,
             "#f0f921"
            ]
           ]
          },
          "colorway": [
           "#636efa",
           "#EF553B",
           "#00cc96",
           "#ab63fa",
           "#FFA15A",
           "#19d3f3",
           "#FF6692",
           "#B6E880",
           "#FF97FF",
           "#FECB52"
          ],
          "font": {
           "color": "#2a3f5f"
          },
          "geo": {
           "bgcolor": "white",
           "lakecolor": "white",
           "landcolor": "#E5ECF6",
           "showlakes": true,
           "showland": true,
           "subunitcolor": "white"
          },
          "hoverlabel": {
           "align": "left"
          },
          "hovermode": "closest",
          "mapbox": {
           "style": "light"
          },
          "paper_bgcolor": "white",
          "plot_bgcolor": "#E5ECF6",
          "polar": {
           "angularaxis": {
            "gridcolor": "white",
            "linecolor": "white",
            "ticks": ""
           },
           "bgcolor": "#E5ECF6",
           "radialaxis": {
            "gridcolor": "white",
            "linecolor": "white",
            "ticks": ""
           }
          },
          "scene": {
           "xaxis": {
            "backgroundcolor": "#E5ECF6",
            "gridcolor": "white",
            "gridwidth": 2,
            "linecolor": "white",
            "showbackground": true,
            "ticks": "",
            "zerolinecolor": "white"
           },
           "yaxis": {
            "backgroundcolor": "#E5ECF6",
            "gridcolor": "white",
            "gridwidth": 2,
            "linecolor": "white",
            "showbackground": true,
            "ticks": "",
            "zerolinecolor": "white"
           },
           "zaxis": {
            "backgroundcolor": "#E5ECF6",
            "gridcolor": "white",
            "gridwidth": 2,
            "linecolor": "white",
            "showbackground": true,
            "ticks": "",
            "zerolinecolor": "white"
           }
          },
          "shapedefaults": {
           "line": {
            "color": "#2a3f5f"
           }
          },
          "ternary": {
           "aaxis": {
            "gridcolor": "white",
            "linecolor": "white",
            "ticks": ""
           },
           "baxis": {
            "gridcolor": "white",
            "linecolor": "white",
            "ticks": ""
           },
           "bgcolor": "#E5ECF6",
           "caxis": {
            "gridcolor": "white",
            "linecolor": "white",
            "ticks": ""
           }
          },
          "title": {
           "x": 0.05
          },
          "xaxis": {
           "automargin": true,
           "gridcolor": "white",
           "linecolor": "white",
           "ticks": "",
           "title": {
            "standoff": 15
           },
           "zerolinecolor": "white",
           "zerolinewidth": 2
          },
          "yaxis": {
           "automargin": true,
           "gridcolor": "white",
           "linecolor": "white",
           "ticks": "",
           "title": {
            "standoff": 15
           },
           "zerolinecolor": "white",
           "zerolinewidth": 2
          }
         }
        },
        "title": {
         "text": "Porcentaje total de cargas por ciudad y modelo de vehículo"
        },
        "width": 900,
        "xaxis": {
         "title": {
          "text": "Ciudad"
         }
        },
        "yaxis": {
         "gridcolor": "lightgray",
         "range": [
          0,
          20
         ],
         "showgrid": true,
         "title": {
          "text": "Porcentaje de cargas (%) sobre total general"
         }
        }
       }
      }
     },
     "metadata": {},
     "output_type": "display_data"
    }
   ],
   "source": [
    "# Crear tabla pivote con conteo absoluto\n",
    "pivot_table = pd.crosstab(ds_evs_clean['Charging Station Location'], ds_evs_clean['Vehicle Model'])\n",
    "\n",
    "# Total general de cargas\n",
    "total_cargas = pivot_table.values.sum()\n",
    "\n",
    "# Calcular porcentaje de cada modelo sobre total general\n",
    "pivot_percent_total = pivot_table.div(total_cargas) * 100\n",
    "\n",
    "# Colores personalizados por modelo\n",
    "model_colors = {\n",
    "    'Tesla Model 3': '#CC0000',\n",
    "    'Nissan Leaf': '#efefef',\n",
    "    'Hyundai Kona': '#00287A',\n",
    "    'Chevy Bolt': '#c5b358',\n",
    "    'BMW i3': '#81C4FF'\n",
    "}\n",
    "\n",
    "# Crear trazas para cada modelo (columna)\n",
    "data = []\n",
    "for model in pivot_percent_total.columns:\n",
    "    color = model_colors.get(model, '#888888')  # Color por defecto si no está en el diccionario\n",
    "    trace = go.Bar(\n",
    "        x=pivot_percent_total.index,\n",
    "        y=pivot_percent_total[model],\n",
    "        name=model,\n",
    "        marker=dict(color=color),\n",
    "        hovertemplate='%{x}<br>Modelo: ' + model + '<br>% Cargas: %{y:.2f}%',\n",
    "    )\n",
    "    data.append(trace)\n",
    "\n",
    "# Layout del gráfico\n",
    "layout = go.Layout(\n",
    "    title='Porcentaje total de cargas por ciudad y modelo de vehículo',\n",
    "    xaxis=dict(title='Ciudad'),\n",
    "    yaxis=dict(title='Porcentaje de cargas (%) sobre total general', range=[0, 20], showgrid=True, gridcolor='lightgray'),\n",
    "    barmode='stack',\n",
    "    width=900,\n",
    "    height=600,\n",
    "    plot_bgcolor=\"#ffffff\",\n",
    "    paper_bgcolor='#ffffff'\n",
    ")\n",
    "\n",
    "# Crear figura y mostrar\n",
    "print(\"✔️ Este gráfico muestra el porcentaje total de carga en cada ciudad y a su vez el porcentaje total de cargas por cada modelo de vehículo\")\n",
    "fig = go.Figure(data=data, layout=layout)\n",
    "iplot(fig);\n",
    "\n",
    "\n"
   ]
  },
  {
   "cell_type": "markdown",
   "metadata": {},
   "source": [
    "Cargas realizadas por modelo ciudades y por modelo de coche:\n",
    "\n",
    "- Tesla Model 3 tiene presencia en todas las ciudades en las que hemos realizado el análisis. Destaca por encima del resto de vehiculos eléctricos en Nueva York y Chicago."
   ]
  },
  {
   "cell_type": "code",
   "execution_count": 23,
   "metadata": {},
   "outputs": [
    {
     "data": {
      "application/vnd.plotly.v1+json": {
       "config": {
        "plotlyServerURL": "https://plot.ly"
       },
       "data": [
        {
         "alignmentgroup": "True",
         "boxpoints": "outliers",
         "hovertemplate": "Modelo de vehículo=%{x}<br>Eeficiencia (km/kWh)=%{y}<extra></extra>",
         "legendgroup": "",
         "marker": {
          "color": "#636efa"
         },
         "name": "",
         "notched": false,
         "offsetgroup": "",
         "orientation": "v",
         "showlegend": false,
         "type": "box",
         "x": [
          "BMW i3",
          "Hyundai Kona",
          "Chevy Bolt",
          "Hyundai Kona",
          "Hyundai Kona",
          "Chevy Bolt",
          "Chevy Bolt",
          "Chevy Bolt",
          "Hyundai Kona",
          "BMW i3",
          "Chevy Bolt",
          "Hyundai Kona",
          "Nissan Leaf",
          "Nissan Leaf",
          "BMW i3",
          "Hyundai Kona",
          "Nissan Leaf",
          "BMW i3",
          "Tesla Model 3",
          "BMW i3",
          "BMW i3",
          "Tesla Model 3",
          "Chevy Bolt",
          "Hyundai Kona",
          "Hyundai Kona",
          "Nissan Leaf",
          "Tesla Model 3",
          "BMW i3",
          "Nissan Leaf",
          "Tesla Model 3",
          "Nissan Leaf",
          "Nissan Leaf",
          "BMW i3",
          "BMW i3",
          "BMW i3",
          "Chevy Bolt",
          "Tesla Model 3",
          "Nissan Leaf",
          "Nissan Leaf",
          "Hyundai Kona",
          "Nissan Leaf",
          "BMW i3",
          "Nissan Leaf",
          "Nissan Leaf",
          "BMW i3",
          "Hyundai Kona",
          "Hyundai Kona",
          "Nissan Leaf",
          "Hyundai Kona",
          "Nissan Leaf",
          "BMW i3",
          "BMW i3",
          "BMW i3",
          "Hyundai Kona",
          "Hyundai Kona",
          "Tesla Model 3",
          "Tesla Model 3",
          "Tesla Model 3",
          "Chevy Bolt",
          "Chevy Bolt",
          "Tesla Model 3",
          "Chevy Bolt",
          "Tesla Model 3",
          "Hyundai Kona",
          "Tesla Model 3",
          "BMW i3",
          "Tesla Model 3",
          "Hyundai Kona",
          "BMW i3",
          "Chevy Bolt",
          "Hyundai Kona",
          "Chevy Bolt",
          "Hyundai Kona",
          "Nissan Leaf",
          "Chevy Bolt",
          "Tesla Model 3",
          "Nissan Leaf",
          "Nissan Leaf",
          "Chevy Bolt",
          "Tesla Model 3",
          "BMW i3",
          "Hyundai Kona",
          "Chevy Bolt",
          "BMW i3",
          "Hyundai Kona",
          "Chevy Bolt",
          "Chevy Bolt",
          "Nissan Leaf",
          "Nissan Leaf",
          "Hyundai Kona",
          "BMW i3",
          "BMW i3",
          "BMW i3",
          "BMW i3",
          "BMW i3",
          "Chevy Bolt",
          "BMW i3",
          "Tesla Model 3",
          "Tesla Model 3",
          "Tesla Model 3",
          "Tesla Model 3",
          "BMW i3",
          "Hyundai Kona",
          "Tesla Model 3",
          "Chevy Bolt",
          "Chevy Bolt",
          "Tesla Model 3",
          "Hyundai Kona",
          "Tesla Model 3",
          "Nissan Leaf",
          "BMW i3",
          "Chevy Bolt",
          "Tesla Model 3",
          "BMW i3",
          "Tesla Model 3",
          "Tesla Model 3",
          "Nissan Leaf",
          "BMW i3",
          "Nissan Leaf",
          "Tesla Model 3",
          "Hyundai Kona",
          "Tesla Model 3",
          "Chevy Bolt",
          "Tesla Model 3",
          "Tesla Model 3",
          "Chevy Bolt",
          "BMW i3",
          "Nissan Leaf",
          "BMW i3",
          "Chevy Bolt",
          "Tesla Model 3",
          "Hyundai Kona",
          "Nissan Leaf",
          "Chevy Bolt",
          "BMW i3",
          "Chevy Bolt",
          "Chevy Bolt",
          "BMW i3",
          "Chevy Bolt",
          "BMW i3",
          "Chevy Bolt",
          "Nissan Leaf",
          "Chevy Bolt",
          "Chevy Bolt",
          "BMW i3",
          "Tesla Model 3",
          "Nissan Leaf",
          "Tesla Model 3",
          "Chevy Bolt",
          "BMW i3",
          "Tesla Model 3",
          "Nissan Leaf",
          "Nissan Leaf",
          "Chevy Bolt",
          "BMW i3",
          "Nissan Leaf",
          "Tesla Model 3",
          "BMW i3",
          "Tesla Model 3",
          "Nissan Leaf",
          "BMW i3",
          "Hyundai Kona",
          "Hyundai Kona",
          "Chevy Bolt",
          "Tesla Model 3",
          "Chevy Bolt",
          "Chevy Bolt",
          "BMW i3",
          "Chevy Bolt",
          "Tesla Model 3",
          "BMW i3",
          "Chevy Bolt",
          "Tesla Model 3",
          "Chevy Bolt",
          "Hyundai Kona",
          "Nissan Leaf",
          "Nissan Leaf",
          "Nissan Leaf",
          "Chevy Bolt",
          "Hyundai Kona",
          "Tesla Model 3",
          "BMW i3",
          "Hyundai Kona",
          "BMW i3",
          "Tesla Model 3",
          "Tesla Model 3",
          "BMW i3",
          "Hyundai Kona",
          "Chevy Bolt",
          "Chevy Bolt",
          "Nissan Leaf",
          "Hyundai Kona",
          "BMW i3",
          "Tesla Model 3",
          "Hyundai Kona",
          "BMW i3",
          "Hyundai Kona",
          "BMW i3",
          "Tesla Model 3",
          "Tesla Model 3",
          "BMW i3",
          "Hyundai Kona",
          "Chevy Bolt",
          "Tesla Model 3",
          "Hyundai Kona",
          "Tesla Model 3",
          "Hyundai Kona",
          "Chevy Bolt",
          "BMW i3",
          "Tesla Model 3",
          "BMW i3",
          "Hyundai Kona",
          "Hyundai Kona",
          "Tesla Model 3",
          "Chevy Bolt",
          "Chevy Bolt",
          "Nissan Leaf",
          "Nissan Leaf",
          "Nissan Leaf",
          "Tesla Model 3",
          "Tesla Model 3",
          "Hyundai Kona",
          "Nissan Leaf",
          "Nissan Leaf",
          "Chevy Bolt",
          "Nissan Leaf",
          "Hyundai Kona",
          "BMW i3",
          "BMW i3",
          "Tesla Model 3",
          "BMW i3",
          "BMW i3",
          "Nissan Leaf",
          "Tesla Model 3",
          "Nissan Leaf",
          "Hyundai Kona",
          "Nissan Leaf",
          "Nissan Leaf",
          "Tesla Model 3",
          "Nissan Leaf",
          "Hyundai Kona",
          "Tesla Model 3",
          "Hyundai Kona",
          "BMW i3",
          "BMW i3",
          "Hyundai Kona",
          "BMW i3",
          "Hyundai Kona",
          "BMW i3",
          "Chevy Bolt",
          "Hyundai Kona",
          "Nissan Leaf",
          "BMW i3",
          "Nissan Leaf",
          "Chevy Bolt",
          "Nissan Leaf",
          "Nissan Leaf",
          "Hyundai Kona",
          "Tesla Model 3",
          "Hyundai Kona",
          "Tesla Model 3",
          "Nissan Leaf",
          "Nissan Leaf",
          "Nissan Leaf",
          "Tesla Model 3",
          "Hyundai Kona",
          "Hyundai Kona",
          "Tesla Model 3",
          "Hyundai Kona",
          "Hyundai Kona",
          "Chevy Bolt",
          "Nissan Leaf",
          "Chevy Bolt",
          "Hyundai Kona",
          "Hyundai Kona",
          "BMW i3",
          "Hyundai Kona",
          "BMW i3",
          "Nissan Leaf",
          "Nissan Leaf",
          "BMW i3",
          "Hyundai Kona",
          "Nissan Leaf",
          "Hyundai Kona",
          "BMW i3",
          "BMW i3",
          "Nissan Leaf",
          "Nissan Leaf",
          "Hyundai Kona",
          "Hyundai Kona",
          "BMW i3",
          "Tesla Model 3",
          "BMW i3",
          "Chevy Bolt",
          "BMW i3",
          "Nissan Leaf",
          "Chevy Bolt",
          "BMW i3",
          "Hyundai Kona",
          "Chevy Bolt",
          "BMW i3",
          "Tesla Model 3",
          "Nissan Leaf",
          "BMW i3",
          "Hyundai Kona",
          "Hyundai Kona",
          "BMW i3",
          "Nissan Leaf",
          "Hyundai Kona",
          "Chevy Bolt",
          "Chevy Bolt",
          "Nissan Leaf",
          "Hyundai Kona",
          "Nissan Leaf",
          "Nissan Leaf",
          "Nissan Leaf",
          "Tesla Model 3",
          "BMW i3",
          "Nissan Leaf",
          "Hyundai Kona",
          "Chevy Bolt",
          "Hyundai Kona",
          "BMW i3",
          "Tesla Model 3",
          "BMW i3",
          "Nissan Leaf",
          "Hyundai Kona",
          "Tesla Model 3",
          "Chevy Bolt",
          "Tesla Model 3",
          "Chevy Bolt",
          "Nissan Leaf",
          "Tesla Model 3",
          "Hyundai Kona",
          "BMW i3",
          "Tesla Model 3",
          "Hyundai Kona",
          "Tesla Model 3",
          "Chevy Bolt",
          "Tesla Model 3",
          "Tesla Model 3",
          "Tesla Model 3",
          "BMW i3",
          "Tesla Model 3",
          "Hyundai Kona",
          "Chevy Bolt",
          "Chevy Bolt",
          "Tesla Model 3",
          "BMW i3",
          "BMW i3",
          "Tesla Model 3",
          "Chevy Bolt",
          "BMW i3",
          "Tesla Model 3",
          "Hyundai Kona",
          "Hyundai Kona",
          "BMW i3",
          "Tesla Model 3",
          "BMW i3",
          "Chevy Bolt",
          "BMW i3",
          "Hyundai Kona",
          "Hyundai Kona",
          "Hyundai Kona",
          "Nissan Leaf",
          "Nissan Leaf",
          "Hyundai Kona",
          "Chevy Bolt",
          "Hyundai Kona",
          "Chevy Bolt",
          "Chevy Bolt",
          "BMW i3",
          "Tesla Model 3",
          "Nissan Leaf",
          "Nissan Leaf",
          "BMW i3",
          "Tesla Model 3",
          "Hyundai Kona",
          "Nissan Leaf",
          "Tesla Model 3",
          "Nissan Leaf",
          "Chevy Bolt",
          "Nissan Leaf",
          "Hyundai Kona",
          "Hyundai Kona",
          "Hyundai Kona",
          "Hyundai Kona",
          "Tesla Model 3",
          "BMW i3",
          "Tesla Model 3",
          "Tesla Model 3",
          "BMW i3",
          "Chevy Bolt",
          "Nissan Leaf",
          "Nissan Leaf",
          "Hyundai Kona",
          "Nissan Leaf",
          "BMW i3",
          "BMW i3",
          "BMW i3",
          "Hyundai Kona",
          "Tesla Model 3",
          "Tesla Model 3",
          "Chevy Bolt",
          "Hyundai Kona",
          "BMW i3",
          "Tesla Model 3",
          "Tesla Model 3",
          "Tesla Model 3",
          "Tesla Model 3",
          "Hyundai Kona",
          "Nissan Leaf",
          "BMW i3",
          "Hyundai Kona",
          "Hyundai Kona",
          "Hyundai Kona",
          "Hyundai Kona",
          "Chevy Bolt",
          "Hyundai Kona",
          "BMW i3",
          "Chevy Bolt",
          "Chevy Bolt",
          "BMW i3",
          "Tesla Model 3",
          "Nissan Leaf",
          "Tesla Model 3",
          "Tesla Model 3",
          "Tesla Model 3",
          "Hyundai Kona",
          "Chevy Bolt",
          "Tesla Model 3",
          "Chevy Bolt",
          "BMW i3",
          "Hyundai Kona",
          "BMW i3",
          "Nissan Leaf",
          "BMW i3",
          "BMW i3",
          "Chevy Bolt",
          "Tesla Model 3",
          "Tesla Model 3",
          "BMW i3",
          "Hyundai Kona",
          "BMW i3",
          "Hyundai Kona",
          "Hyundai Kona",
          "Chevy Bolt",
          "Hyundai Kona",
          "Nissan Leaf",
          "Chevy Bolt",
          "Nissan Leaf",
          "Nissan Leaf",
          "Tesla Model 3",
          "Tesla Model 3",
          "Nissan Leaf",
          "Tesla Model 3",
          "Chevy Bolt",
          "Hyundai Kona",
          "Tesla Model 3",
          "Chevy Bolt",
          "Chevy Bolt",
          "Hyundai Kona",
          "Tesla Model 3",
          "Tesla Model 3",
          "Chevy Bolt",
          "Tesla Model 3",
          "Hyundai Kona",
          "BMW i3",
          "Hyundai Kona",
          "Hyundai Kona",
          "Chevy Bolt",
          "Hyundai Kona",
          "Hyundai Kona",
          "Nissan Leaf",
          "Nissan Leaf",
          "Chevy Bolt",
          "Hyundai Kona",
          "Tesla Model 3",
          "Chevy Bolt",
          "Hyundai Kona",
          "Hyundai Kona",
          "BMW i3",
          "Tesla Model 3",
          "Tesla Model 3",
          "Nissan Leaf",
          "BMW i3",
          "Chevy Bolt",
          "Chevy Bolt",
          "Nissan Leaf",
          "BMW i3",
          "Tesla Model 3",
          "BMW i3",
          "Hyundai Kona",
          "Chevy Bolt",
          "Tesla Model 3",
          "Hyundai Kona",
          "Nissan Leaf",
          "Chevy Bolt",
          "BMW i3",
          "Nissan Leaf",
          "Nissan Leaf",
          "Nissan Leaf",
          "Chevy Bolt",
          "BMW i3",
          "Tesla Model 3",
          "Tesla Model 3",
          "BMW i3",
          "Chevy Bolt",
          "Tesla Model 3",
          "Hyundai Kona",
          "Hyundai Kona",
          "BMW i3",
          "Nissan Leaf",
          "Tesla Model 3",
          "Nissan Leaf",
          "Tesla Model 3",
          "BMW i3",
          "Hyundai Kona",
          "Nissan Leaf",
          "Nissan Leaf",
          "Chevy Bolt",
          "Chevy Bolt",
          "Tesla Model 3",
          "Chevy Bolt",
          "BMW i3",
          "Tesla Model 3",
          "Chevy Bolt",
          "Hyundai Kona",
          "Nissan Leaf",
          "Hyundai Kona",
          "Nissan Leaf",
          "Chevy Bolt",
          "Chevy Bolt",
          "Hyundai Kona",
          "Hyundai Kona",
          "Nissan Leaf",
          "Nissan Leaf",
          "Hyundai Kona",
          "Hyundai Kona",
          "Tesla Model 3",
          "Tesla Model 3",
          "Nissan Leaf",
          "Tesla Model 3",
          "Chevy Bolt",
          "Hyundai Kona",
          "Tesla Model 3",
          "Nissan Leaf",
          "BMW i3",
          "Tesla Model 3",
          "Tesla Model 3",
          "Chevy Bolt",
          "Hyundai Kona",
          "Nissan Leaf",
          "BMW i3",
          "Nissan Leaf",
          "Hyundai Kona",
          "Chevy Bolt",
          "Chevy Bolt",
          "Chevy Bolt",
          "Chevy Bolt",
          "Nissan Leaf",
          "Chevy Bolt",
          "Tesla Model 3",
          "Hyundai Kona",
          "BMW i3",
          "Nissan Leaf",
          "Tesla Model 3",
          "Tesla Model 3",
          "Tesla Model 3",
          "Hyundai Kona",
          "Tesla Model 3",
          "BMW i3",
          "Nissan Leaf",
          "Chevy Bolt",
          "Nissan Leaf",
          "BMW i3",
          "Nissan Leaf",
          "Tesla Model 3",
          "BMW i3",
          "Chevy Bolt",
          "Nissan Leaf",
          "BMW i3",
          "Nissan Leaf",
          "Nissan Leaf",
          "Chevy Bolt",
          "Hyundai Kona",
          "Hyundai Kona",
          "Tesla Model 3",
          "Tesla Model 3",
          "BMW i3",
          "Chevy Bolt",
          "Tesla Model 3",
          "Chevy Bolt",
          "Hyundai Kona",
          "BMW i3",
          "Nissan Leaf",
          "BMW i3",
          "BMW i3",
          "BMW i3",
          "Chevy Bolt",
          "Nissan Leaf",
          "Chevy Bolt",
          "Nissan Leaf",
          "Hyundai Kona",
          "Hyundai Kona",
          "BMW i3",
          "BMW i3",
          "Tesla Model 3",
          "BMW i3",
          "BMW i3",
          "Tesla Model 3",
          "Nissan Leaf",
          "Chevy Bolt",
          "BMW i3",
          "Hyundai Kona",
          "Chevy Bolt",
          "Tesla Model 3",
          "Nissan Leaf",
          "Nissan Leaf",
          "Nissan Leaf",
          "BMW i3",
          "Nissan Leaf",
          "Hyundai Kona",
          "Nissan Leaf",
          "BMW i3",
          "Tesla Model 3",
          "Chevy Bolt",
          "Tesla Model 3",
          "Hyundai Kona",
          "BMW i3",
          "Nissan Leaf",
          "Chevy Bolt",
          "Tesla Model 3",
          "Nissan Leaf",
          "Chevy Bolt",
          "Chevy Bolt",
          "Tesla Model 3",
          "BMW i3",
          "Chevy Bolt",
          "Tesla Model 3",
          "Hyundai Kona",
          "BMW i3",
          "Chevy Bolt",
          "Hyundai Kona",
          "Hyundai Kona",
          "Chevy Bolt",
          "Chevy Bolt",
          "Nissan Leaf",
          "BMW i3",
          "Tesla Model 3",
          "Hyundai Kona",
          "Nissan Leaf",
          "Tesla Model 3",
          "Chevy Bolt",
          "Tesla Model 3",
          "Tesla Model 3",
          "Tesla Model 3",
          "Tesla Model 3",
          "Nissan Leaf",
          "Hyundai Kona",
          "Chevy Bolt",
          "Chevy Bolt",
          "Chevy Bolt",
          "Nissan Leaf",
          "BMW i3",
          "Tesla Model 3",
          "BMW i3",
          "Chevy Bolt",
          "Hyundai Kona",
          "Tesla Model 3",
          "Tesla Model 3",
          "Hyundai Kona",
          "Chevy Bolt",
          "Tesla Model 3",
          "BMW i3",
          "Nissan Leaf",
          "Hyundai Kona",
          "Hyundai Kona",
          "BMW i3",
          "Hyundai Kona",
          "BMW i3",
          "Hyundai Kona",
          "Hyundai Kona",
          "BMW i3",
          "BMW i3",
          "Hyundai Kona",
          "Nissan Leaf",
          "Chevy Bolt",
          "Chevy Bolt",
          "BMW i3",
          "BMW i3",
          "Nissan Leaf",
          "Hyundai Kona",
          "BMW i3",
          "Chevy Bolt",
          "Nissan Leaf",
          "Nissan Leaf",
          "BMW i3",
          "Nissan Leaf",
          "Nissan Leaf",
          "Tesla Model 3",
          "BMW i3",
          "Chevy Bolt",
          "BMW i3",
          "BMW i3",
          "BMW i3",
          "BMW i3",
          "Hyundai Kona",
          "Nissan Leaf",
          "Tesla Model 3",
          "Nissan Leaf",
          "Tesla Model 3",
          "Hyundai Kona",
          "Tesla Model 3",
          "Chevy Bolt",
          "Tesla Model 3",
          "Hyundai Kona",
          "Hyundai Kona",
          "Nissan Leaf",
          "BMW i3",
          "Tesla Model 3",
          "Tesla Model 3",
          "Chevy Bolt",
          "Hyundai Kona",
          "Tesla Model 3",
          "Nissan Leaf",
          "BMW i3",
          "Hyundai Kona",
          "Tesla Model 3",
          "Tesla Model 3",
          "Nissan Leaf",
          "Nissan Leaf",
          "Nissan Leaf",
          "Chevy Bolt",
          "Chevy Bolt",
          "Chevy Bolt",
          "Chevy Bolt",
          "Tesla Model 3",
          "BMW i3",
          "Hyundai Kona",
          "Tesla Model 3",
          "Hyundai Kona",
          "Chevy Bolt",
          "BMW i3",
          "Nissan Leaf",
          "Tesla Model 3",
          "BMW i3",
          "Tesla Model 3",
          "BMW i3",
          "BMW i3",
          "Tesla Model 3",
          "Hyundai Kona",
          "Hyundai Kona",
          "Tesla Model 3",
          "Hyundai Kona",
          "Hyundai Kona",
          "Chevy Bolt",
          "Nissan Leaf",
          "Tesla Model 3",
          "Nissan Leaf",
          "Nissan Leaf",
          "BMW i3",
          "Tesla Model 3",
          "Nissan Leaf",
          "Chevy Bolt",
          "Tesla Model 3",
          "Hyundai Kona",
          "Chevy Bolt",
          "Nissan Leaf",
          "Nissan Leaf",
          "BMW i3",
          "Tesla Model 3",
          "Nissan Leaf",
          "Tesla Model 3",
          "Chevy Bolt",
          "Hyundai Kona",
          "Tesla Model 3",
          "Hyundai Kona",
          "Chevy Bolt",
          "Chevy Bolt",
          "Tesla Model 3",
          "Chevy Bolt",
          "Chevy Bolt",
          "BMW i3",
          "BMW i3",
          "Hyundai Kona",
          "Hyundai Kona",
          "Nissan Leaf",
          "Tesla Model 3",
          "Hyundai Kona",
          "Chevy Bolt",
          "BMW i3",
          "BMW i3",
          "Nissan Leaf",
          "Tesla Model 3",
          "BMW i3",
          "Chevy Bolt",
          "Nissan Leaf",
          "Nissan Leaf",
          "Hyundai Kona",
          "Hyundai Kona",
          "Tesla Model 3",
          "Nissan Leaf",
          "Hyundai Kona",
          "BMW i3",
          "Chevy Bolt",
          "BMW i3",
          "Nissan Leaf",
          "Tesla Model 3",
          "Nissan Leaf",
          "Nissan Leaf",
          "Tesla Model 3",
          "Tesla Model 3",
          "Nissan Leaf",
          "Hyundai Kona",
          "Tesla Model 3",
          "Tesla Model 3",
          "Chevy Bolt",
          "BMW i3",
          "Nissan Leaf",
          "Nissan Leaf",
          "Hyundai Kona",
          "Hyundai Kona",
          "Hyundai Kona",
          "Chevy Bolt",
          "Nissan Leaf",
          "Nissan Leaf",
          "BMW i3",
          "Nissan Leaf",
          "Hyundai Kona",
          "Tesla Model 3",
          "Nissan Leaf",
          "BMW i3",
          "Hyundai Kona",
          "Hyundai Kona",
          "Chevy Bolt",
          "Tesla Model 3",
          "Chevy Bolt",
          "Nissan Leaf",
          "BMW i3",
          "Hyundai Kona",
          "Hyundai Kona",
          "Tesla Model 3",
          "Nissan Leaf",
          "Hyundai Kona",
          "BMW i3",
          "Nissan Leaf",
          "Nissan Leaf",
          "Chevy Bolt",
          "Tesla Model 3",
          "Hyundai Kona",
          "Chevy Bolt",
          "Hyundai Kona",
          "Hyundai Kona",
          "Chevy Bolt",
          "Chevy Bolt",
          "BMW i3",
          "Chevy Bolt",
          "Chevy Bolt",
          "Nissan Leaf",
          "Hyundai Kona",
          "BMW i3",
          "BMW i3",
          "Chevy Bolt",
          "BMW i3",
          "Tesla Model 3",
          "Chevy Bolt",
          "Hyundai Kona",
          "Chevy Bolt",
          "Nissan Leaf",
          "Nissan Leaf",
          "Hyundai Kona",
          "Tesla Model 3",
          "Tesla Model 3",
          "Tesla Model 3",
          "Tesla Model 3",
          "Tesla Model 3",
          "Hyundai Kona",
          "Nissan Leaf",
          "Chevy Bolt",
          "Chevy Bolt",
          "Nissan Leaf",
          "Hyundai Kona",
          "BMW i3",
          "Chevy Bolt",
          "Nissan Leaf",
          "BMW i3",
          "Chevy Bolt",
          "BMW i3",
          "Chevy Bolt",
          "Chevy Bolt",
          "Tesla Model 3",
          "Hyundai Kona",
          "Tesla Model 3",
          "Nissan Leaf",
          "Tesla Model 3",
          "BMW i3",
          "Chevy Bolt",
          "Tesla Model 3",
          "Hyundai Kona",
          "Tesla Model 3",
          "Nissan Leaf",
          "Tesla Model 3",
          "Chevy Bolt",
          "Nissan Leaf",
          "Tesla Model 3",
          "Hyundai Kona",
          "Nissan Leaf",
          "Nissan Leaf",
          "Tesla Model 3",
          "Hyundai Kona",
          "Nissan Leaf",
          "Tesla Model 3",
          "Chevy Bolt",
          "Nissan Leaf",
          "Nissan Leaf",
          "BMW i3",
          "Chevy Bolt",
          "Nissan Leaf",
          "Nissan Leaf",
          "Tesla Model 3",
          "BMW i3",
          "Chevy Bolt",
          "Chevy Bolt",
          "BMW i3",
          "Tesla Model 3",
          "Hyundai Kona",
          "Hyundai Kona",
          "Tesla Model 3",
          "Nissan Leaf",
          "BMW i3",
          "Nissan Leaf"
         ],
         "x0": " ",
         "xaxis": "x",
         "y": {
          "bdata": "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",
          "dtype": "f8"
         },
         "y0": " ",
         "yaxis": "y"
        }
       ],
       "layout": {
        "boxmode": "group",
        "height": 600,
        "legend": {
         "tracegroupgap": 0
        },
        "template": {
         "data": {
          "bar": [
           {
            "error_x": {
             "color": "#2a3f5f"
            },
            "error_y": {
             "color": "#2a3f5f"
            },
            "marker": {
             "line": {
              "color": "white",
              "width": 0.5
             },
             "pattern": {
              "fillmode": "overlay",
              "size": 10,
              "solidity": 0.2
             }
            },
            "type": "bar"
           }
          ],
          "barpolar": [
           {
            "marker": {
             "line": {
              "color": "white",
              "width": 0.5
             },
             "pattern": {
              "fillmode": "overlay",
              "size": 10,
              "solidity": 0.2
             }
            },
            "type": "barpolar"
           }
          ],
          "carpet": [
           {
            "aaxis": {
             "endlinecolor": "#2a3f5f",
             "gridcolor": "#C8D4E3",
             "linecolor": "#C8D4E3",
             "minorgridcolor": "#C8D4E3",
             "startlinecolor": "#2a3f5f"
            },
            "baxis": {
             "endlinecolor": "#2a3f5f",
             "gridcolor": "#C8D4E3",
             "linecolor": "#C8D4E3",
             "minorgridcolor": "#C8D4E3",
             "startlinecolor": "#2a3f5f"
            },
            "type": "carpet"
           }
          ],
          "choropleth": [
           {
            "colorbar": {
             "outlinewidth": 0,
             "ticks": ""
            },
            "type": "choropleth"
           }
          ],
          "contour": [
           {
            "colorbar": {
             "outlinewidth": 0,
             "ticks": ""
            },
            "colorscale": [
             [
              0,
              "#0d0887"
             ],
             [
              0.1111111111111111,
              "#46039f"
             ],
             [
              0.2222222222222222,
              "#7201a8"
             ],
             [
              0.3333333333333333,
              "#9c179e"
             ],
             [
              0.4444444444444444,
              "#bd3786"
             ],
             [
              0.5555555555555556,
              "#d8576b"
             ],
             [
              0.6666666666666666,
              "#ed7953"
             ],
             [
              0.7777777777777778,
              "#fb9f3a"
             ],
             [
              0.8888888888888888,
              "#fdca26"
             ],
             [
              1,
              "#f0f921"
             ]
            ],
            "type": "contour"
           }
          ],
          "contourcarpet": [
           {
            "colorbar": {
             "outlinewidth": 0,
             "ticks": ""
            },
            "type": "contourcarpet"
           }
          ],
          "heatmap": [
           {
            "colorbar": {
             "outlinewidth": 0,
             "ticks": ""
            },
            "colorscale": [
             [
              0,
              "#0d0887"
             ],
             [
              0.1111111111111111,
              "#46039f"
             ],
             [
              0.2222222222222222,
              "#7201a8"
             ],
             [
              0.3333333333333333,
              "#9c179e"
             ],
             [
              0.4444444444444444,
              "#bd3786"
             ],
             [
              0.5555555555555556,
              "#d8576b"
             ],
             [
              0.6666666666666666,
              "#ed7953"
             ],
             [
              0.7777777777777778,
              "#fb9f3a"
             ],
             [
              0.8888888888888888,
              "#fdca26"
             ],
             [
              1,
              "#f0f921"
             ]
            ],
            "type": "heatmap"
           }
          ],
          "histogram": [
           {
            "marker": {
             "pattern": {
              "fillmode": "overlay",
              "size": 10,
              "solidity": 0.2
             }
            },
            "type": "histogram"
           }
          ],
          "histogram2d": [
           {
            "colorbar": {
             "outlinewidth": 0,
             "ticks": ""
            },
            "colorscale": [
             [
              0,
              "#0d0887"
             ],
             [
              0.1111111111111111,
              "#46039f"
             ],
             [
              0.2222222222222222,
              "#7201a8"
             ],
             [
              0.3333333333333333,
              "#9c179e"
             ],
             [
              0.4444444444444444,
              "#bd3786"
             ],
             [
              0.5555555555555556,
              "#d8576b"
             ],
             [
              0.6666666666666666,
              "#ed7953"
             ],
             [
              0.7777777777777778,
              "#fb9f3a"
             ],
             [
              0.8888888888888888,
              "#fdca26"
             ],
             [
              1,
              "#f0f921"
             ]
            ],
            "type": "histogram2d"
           }
          ],
          "histogram2dcontour": [
           {
            "colorbar": {
             "outlinewidth": 0,
             "ticks": ""
            },
            "colorscale": [
             [
              0,
              "#0d0887"
             ],
             [
              0.1111111111111111,
              "#46039f"
             ],
             [
              0.2222222222222222,
              "#7201a8"
             ],
             [
              0.3333333333333333,
              "#9c179e"
             ],
             [
              0.4444444444444444,
              "#bd3786"
             ],
             [
              0.5555555555555556,
              "#d8576b"
             ],
             [
              0.6666666666666666,
              "#ed7953"
             ],
             [
              0.7777777777777778,
              "#fb9f3a"
             ],
             [
              0.8888888888888888,
              "#fdca26"
             ],
             [
              1,
              "#f0f921"
             ]
            ],
            "type": "histogram2dcontour"
           }
          ],
          "mesh3d": [
           {
            "colorbar": {
             "outlinewidth": 0,
             "ticks": ""
            },
            "type": "mesh3d"
           }
          ],
          "parcoords": [
           {
            "line": {
             "colorbar": {
              "outlinewidth": 0,
              "ticks": ""
             }
            },
            "type": "parcoords"
           }
          ],
          "pie": [
           {
            "automargin": true,
            "type": "pie"
           }
          ],
          "scatter": [
           {
            "fillpattern": {
             "fillmode": "overlay",
             "size": 10,
             "solidity": 0.2
            },
            "type": "scatter"
           }
          ],
          "scatter3d": [
           {
            "line": {
             "colorbar": {
              "outlinewidth": 0,
              "ticks": ""
             }
            },
            "marker": {
             "colorbar": {
              "outlinewidth": 0,
              "ticks": ""
             }
            },
            "type": "scatter3d"
           }
          ],
          "scattercarpet": [
           {
            "marker": {
             "colorbar": {
              "outlinewidth": 0,
              "ticks": ""
             }
            },
            "type": "scattercarpet"
           }
          ],
          "scattergeo": [
           {
            "marker": {
             "colorbar": {
              "outlinewidth": 0,
              "ticks": ""
             }
            },
            "type": "scattergeo"
           }
          ],
          "scattergl": [
           {
            "marker": {
             "colorbar": {
              "outlinewidth": 0,
              "ticks": ""
             }
            },
            "type": "scattergl"
           }
          ],
          "scattermap": [
           {
            "marker": {
             "colorbar": {
              "outlinewidth": 0,
              "ticks": ""
             }
            },
            "type": "scattermap"
           }
          ],
          "scattermapbox": [
           {
            "marker": {
             "colorbar": {
              "outlinewidth": 0,
              "ticks": ""
             }
            },
            "type": "scattermapbox"
           }
          ],
          "scatterpolar": [
           {
            "marker": {
             "colorbar": {
              "outlinewidth": 0,
              "ticks": ""
             }
            },
            "type": "scatterpolar"
           }
          ],
          "scatterpolargl": [
           {
            "marker": {
             "colorbar": {
              "outlinewidth": 0,
              "ticks": ""
             }
            },
            "type": "scatterpolargl"
           }
          ],
          "scatterternary": [
           {
            "marker": {
             "colorbar": {
              "outlinewidth": 0,
              "ticks": ""
             }
            },
            "type": "scatterternary"
           }
          ],
          "surface": [
           {
            "colorbar": {
             "outlinewidth": 0,
             "ticks": ""
            },
            "colorscale": [
             [
              0,
              "#0d0887"
             ],
             [
              0.1111111111111111,
              "#46039f"
             ],
             [
              0.2222222222222222,
              "#7201a8"
             ],
             [
              0.3333333333333333,
              "#9c179e"
             ],
             [
              0.4444444444444444,
              "#bd3786"
             ],
             [
              0.5555555555555556,
              "#d8576b"
             ],
             [
              0.6666666666666666,
              "#ed7953"
             ],
             [
              0.7777777777777778,
              "#fb9f3a"
             ],
             [
              0.8888888888888888,
              "#fdca26"
             ],
             [
              1,
              "#f0f921"
             ]
            ],
            "type": "surface"
           }
          ],
          "table": [
           {
            "cells": {
             "fill": {
              "color": "#EBF0F8"
             },
             "line": {
              "color": "white"
             }
            },
            "header": {
             "fill": {
              "color": "#C8D4E3"
             },
             "line": {
              "color": "white"
             }
            },
            "type": "table"
           }
          ]
         },
         "layout": {
          "annotationdefaults": {
           "arrowcolor": "#2a3f5f",
           "arrowhead": 0,
           "arrowwidth": 1
          },
          "autotypenumbers": "strict",
          "coloraxis": {
           "colorbar": {
            "outlinewidth": 0,
            "ticks": ""
           }
          },
          "colorscale": {
           "diverging": [
            [
             0,
             "#8e0152"
            ],
            [
             0.1,
             "#c51b7d"
            ],
            [
             0.2,
             "#de77ae"
            ],
            [
             0.3,
             "#f1b6da"
            ],
            [
             0.4,
             "#fde0ef"
            ],
            [
             0.5,
             "#f7f7f7"
            ],
            [
             0.6,
             "#e6f5d0"
            ],
            [
             0.7,
             "#b8e186"
            ],
            [
             0.8,
             "#7fbc41"
            ],
            [
             0.9,
             "#4d9221"
            ],
            [
             1,
             "#276419"
            ]
           ],
           "sequential": [
            [
             0,
             "#0d0887"
            ],
            [
             0.1111111111111111,
             "#46039f"
            ],
            [
             0.2222222222222222,
             "#7201a8"
            ],
            [
             0.3333333333333333,
             "#9c179e"
            ],
            [
             0.4444444444444444,
             "#bd3786"
            ],
            [
             0.5555555555555556,
             "#d8576b"
            ],
            [
             0.6666666666666666,
             "#ed7953"
            ],
            [
             0.7777777777777778,
             "#fb9f3a"
            ],
            [
             0.8888888888888888,
             "#fdca26"
            ],
            [
             1,
             "#f0f921"
            ]
           ],
           "sequentialminus": [
            [
             0,
             "#0d0887"
            ],
            [
             0.1111111111111111,
             "#46039f"
            ],
            [
             0.2222222222222222,
             "#7201a8"
            ],
            [
             0.3333333333333333,
             "#9c179e"
            ],
            [
             0.4444444444444444,
             "#bd3786"
            ],
            [
             0.5555555555555556,
             "#d8576b"
            ],
            [
             0.6666666666666666,
             "#ed7953"
            ],
            [
             0.7777777777777778,
             "#fb9f3a"
            ],
            [
             0.8888888888888888,
             "#fdca26"
            ],
            [
             1,
             "#f0f921"
            ]
           ]
          },
          "colorway": [
           "#636efa",
           "#EF553B",
           "#00cc96",
           "#ab63fa",
           "#FFA15A",
           "#19d3f3",
           "#FF6692",
           "#B6E880",
           "#FF97FF",
           "#FECB52"
          ],
          "font": {
           "color": "#2a3f5f"
          },
          "geo": {
           "bgcolor": "white",
           "lakecolor": "white",
           "landcolor": "white",
           "showlakes": true,
           "showland": true,
           "subunitcolor": "#C8D4E3"
          },
          "hoverlabel": {
           "align": "left"
          },
          "hovermode": "closest",
          "mapbox": {
           "style": "light"
          },
          "paper_bgcolor": "white",
          "plot_bgcolor": "white",
          "polar": {
           "angularaxis": {
            "gridcolor": "#EBF0F8",
            "linecolor": "#EBF0F8",
            "ticks": ""
           },
           "bgcolor": "white",
           "radialaxis": {
            "gridcolor": "#EBF0F8",
            "linecolor": "#EBF0F8",
            "ticks": ""
           }
          },
          "scene": {
           "xaxis": {
            "backgroundcolor": "white",
            "gridcolor": "#DFE8F3",
            "gridwidth": 2,
            "linecolor": "#EBF0F8",
            "showbackground": true,
            "ticks": "",
            "zerolinecolor": "#EBF0F8"
           },
           "yaxis": {
            "backgroundcolor": "white",
            "gridcolor": "#DFE8F3",
            "gridwidth": 2,
            "linecolor": "#EBF0F8",
            "showbackground": true,
            "ticks": "",
            "zerolinecolor": "#EBF0F8"
           },
           "zaxis": {
            "backgroundcolor": "white",
            "gridcolor": "#DFE8F3",
            "gridwidth": 2,
            "linecolor": "#EBF0F8",
            "showbackground": true,
            "ticks": "",
            "zerolinecolor": "#EBF0F8"
           }
          },
          "shapedefaults": {
           "line": {
            "color": "#2a3f5f"
           }
          },
          "ternary": {
           "aaxis": {
            "gridcolor": "#DFE8F3",
            "linecolor": "#A2B1C6",
            "ticks": ""
           },
           "baxis": {
            "gridcolor": "#DFE8F3",
            "linecolor": "#A2B1C6",
            "ticks": ""
           },
           "bgcolor": "white",
           "caxis": {
            "gridcolor": "#DFE8F3",
            "linecolor": "#A2B1C6",
            "ticks": ""
           }
          },
          "title": {
           "x": 0.05
          },
          "xaxis": {
           "automargin": true,
           "gridcolor": "#EBF0F8",
           "linecolor": "#EBF0F8",
           "ticks": "",
           "title": {
            "standoff": 15
           },
           "zerolinecolor": "#EBF0F8",
           "zerolinewidth": 2
          },
          "yaxis": {
           "automargin": true,
           "gridcolor": "#EBF0F8",
           "linecolor": "#EBF0F8",
           "ticks": "",
           "title": {
            "standoff": 15
           },
           "zerolinecolor": "#EBF0F8",
           "zerolinewidth": 2
          }
         }
        },
        "title": {
         "text": "Eficiencia por vehiculo (km por kWh cargado)"
        },
        "width": 900,
        "xaxis": {
         "anchor": "y",
         "domain": [
          0,
          1
         ],
         "tickangle": -45,
         "title": {
          "text": "Modelo de vehículo"
         }
        },
        "yaxis": {
         "anchor": "x",
         "domain": [
          0,
          1
         ],
         "gridcolor": "lightgray",
         "range": [
          0,
          50
         ],
         "showgrid": true,
         "title": {
          "text": "Eeficiencia (km/kWh)"
         }
        }
       }
      }
     },
     "metadata": {},
     "output_type": "display_data"
    }
   ],
   "source": [
    "#Análisis de la eficencia con un boxplot:\n",
    "\n",
    "# Filtrar valores muy altos para que los outlaters no distorsionen el gráfico\n",
    "ds_filtered_efficency = ds_evs_clean[ds_evs_clean['Efficiency'] < 50]\n",
    "\n",
    "fig = px.box(\n",
    "    ds_filtered_efficency,\n",
    "    x='Vehicle Model',\n",
    "    y='Efficiency',\n",
    "    points='outliers',\n",
    "    title='Eficiencia por vehiculo (km por kWh cargado)',\n",
    "    labels={\n",
    "        'Efficiency': 'Eeficiencia (km/kWh)',\n",
    "        'Vehicle Model': 'Modelo de vehículo'\n",
    "    },\n",
    "    template='plotly_white'\n",
    ")\n",
    "\n",
    "fig.update_layout(\n",
    "    xaxis_tickangle=-45,\n",
    "    yaxis=dict(range=[0, 50], showgrid=True, gridcolor='lightgray'),\n",
    "    width=900,\n",
    "    height=600,\n",
    ")\n",
    "\n",
    "fig.show();\n",
    "\n"
   ]
  },
  {
   "cell_type": "markdown",
   "metadata": {},
   "source": [
    "Comparación entre modelos de coches eléctricos y su eficiencia:\n",
    "\n",
    "- Los modelos Chevrolet Bolt y Hyundai Kona presentan las medias de eficiencia más altas entre los vehículos analizados.\n",
    "- Por el contrario, el Tesla Model 3 y el BMW i3 muestran un rendimiento menos eficiente. En particular, la eficiencia media del Tesla Model 3 está 0.94 puntos por debajo del modelo más eficiente (Hyundai Kona).\n",
    "- En general, todos los modelos muestran niveles de eficiencia relativamente similares, lo cual se refleja en la disposición centrada de las cajas en el gráfico.\n",
    "- Se observa una alta cantidad de valores atípicos (outliers) en todos los modelos, lo cual probablemente esté relacionado con los hábitos de carga de los usuarios."
   ]
  },
  {
   "cell_type": "markdown",
   "metadata": {},
   "source": [
    "### Análisis de correlaciones ###"
   ]
  },
  {
   "cell_type": "code",
   "execution_count": 24,
   "metadata": {},
   "outputs": [
    {
     "data": {
      "image/png": "[encoded data removed]",
      "text/plain": [
       "<Figure size 800x800 with 2 Axes>"
      ]
     },
     "metadata": {},
     "output_type": "display_data"
    }
   ],
   "source": [
    "#Buscar correlaciones entre variables numericas\n",
    "\n",
    "ds_correlacion = ds_evs_clean[variables_numericas].dropna()\n",
    "\n",
    "corr_matrix = ds_correlacion.corr()\n",
    "\n",
    "\n",
    "plt.figure(figsize=(8, 8))\n",
    "sns.heatmap(corr_matrix, annot=True, cmap='coolwarm', fmt=\".2f\")\n",
    "plt.title('Matriz de correlación entre variables numéricas')\n",
    "plt.tight_layout()\n",
    "plt.show()\n"
   ]
  },
  {
   "cell_type": "markdown",
   "metadata": {},
   "source": [
    "La variable Distancia Driven, no presenta ningun tipo de relación con el resto de variables numéricas, por lo que no se puede utilizar este análisis para aceptar la hipótesis 2 (\"Los cargadores de tipo DC Fast Charger son más utilizados para distancias largas\").\n",
    "\n",
    "Las variables que si muestran relacion son el % de carga del vehiculo con el precio pagado por la carga. Las demás relaciones que superan el 0,5 es debido a que se han usado para calñcular nuevas columnas. "
   ]
  },
  {
   "cell_type": "code",
   "execution_count": 25,
   "metadata": {},
   "outputs": [
    {
     "data": {
      "image/png": "[encoded data removed]",
      "text/plain": [
       "<Figure size 1000x600 with 1 Axes>"
      ]
     },
     "metadata": {},
     "output_type": "display_data"
    }
   ],
   "source": [
    "# Crear gráfico de dispersión con colores por ciudad\n",
    "plt.figure(figsize=(10, 6))\n",
    "sns.scatterplot(\n",
    "    data=ds_evs_clean,\n",
    "    x=\"Charging Rate (kW)\",  # nombre correcto en inglés\n",
    "    y=\"Charging Energy Cost (USD /kW)\",  # nombre correcto en inglés\n",
    "    hue=\"Charging Station Location\",  # nombre correcto en inglés\n",
    "    alpha=0.7\n",
    ")\n",
    "\n",
    "plt.title(\"Coste de electricidad (USD) por kW suministrado en la carga\")\n",
    "plt.xlabel(\"Carga suministrada (kW)\")\n",
    "plt.ylabel(\"Coste de la energía suministrada (USD/kW)\")\n",
    "plt.tight_layout()\n",
    "plt.show()\n"
   ]
  },
  {
   "cell_type": "markdown",
   "metadata": {},
   "source": [
    "Patrones obvervados en el gráfico:\n",
    "\n",
    "- Existe una relación inversa entre las variables de carga suministrada y coste por kW. A medida que aumenta la tasa de carga (Charging Rate), el coste por kW tiende a disminuir.\n",
    "- Alta variación en el coste de cargas más reducidas. Por debajo de los 1os 15 kW suministrados, las tarifas por kW oscilan mucho.\n",
    "- Estabilización del precio por kW para las cargas a partir de los 20 kW, lo que s puede observar en una menor dispersión del precio por kW.\n",
    "- No existe distinción entre ciudades, es decir todas tienen la misma tendencia en cuanto a la distribución de USD/kW y carga suministrada (kW)."
   ]
  },
  {
   "cell_type": "code",
   "execution_count": null,
   "metadata": {},
   "outputs": [],
   "source": []
  }
 ],
 "metadata": {
  "kernelspec": {
   "display_name": "Python 3",
   "language": "python",
   "name": "python3"
  },
  "language_info": {
   "codemirror_mode": {
    "name": "ipython",
    "version": 3
   },
   "file_extension": ".py",
   "mimetype": "text/x-python",
   "name": "python",
   "nbconvert_exporter": "python",
   "pygments_lexer": "ipython3",
   "version": "3.13.3"
  },
  "orig_nbformat": 4
 },
 "nbformat": 4,
 "nbformat_minor": 2
}
