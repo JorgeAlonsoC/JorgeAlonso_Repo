{
 "cells": [
  {
   "cell_type": "markdown",
   "id": "57c63469",
   "metadata": {},
   "source": [
    "Data Set - Spain"
   ]
  },
  {
   "cell_type": "code",
   "execution_count": 8,
   "id": "5ce7e852",
   "metadata": {},
   "outputs": [],
   "source": [
    "import hashlib\n",
    "import requests\n",
    "import datetime\n",
    "import pandas as pd\n",
    "import json\n",
    "import kagglehub\n",
    "from kagglehub import KaggleDatasetAdapter\n",
    "import kaggle"
   ]
  },
  {
   "cell_type": "code",
   "execution_count": 3,
   "id": "03e17c0f",
   "metadata": {},
   "outputs": [
    {
     "name": "stdout",
     "output_type": "stream",
     "text": [
      "Downloading from https://www.kaggle.com/api/v1/datasets/download/fatihilhan/electric-vehicle-specifications-and-prices?dataset_version_number=1...\n"
     ]
    },
    {
     "name": "stderr",
     "output_type": "stream",
     "text": [
      "100%|██████████| 10.3k/10.3k [00:00<00:00, 3.28MB/s]"
     ]
    },
    {
     "name": "stdout",
     "output_type": "stream",
     "text": [
      "Extracting files...\n",
      "Path to dataset files: C:\\Users\\Jorge_USR\\.cache\\kagglehub\\datasets\\fatihilhan\\electric-vehicle-specifications-and-prices\\versions\\1\n"
     ]
    },
    {
     "name": "stderr",
     "output_type": "stream",
     "text": [
      "\n"
     ]
    }
   ],
   "source": [
    "#Descargar el data set de la api de kaggle\n",
    "import kagglehub\n",
    "\n",
    "# Download latest version\n",
    "path = kagglehub.dataset_download(\"fatihilhan/electric-vehicle-specifications-and-prices\")\n",
    "\n",
    "print(\"Path to dataset files:\", path)"
   ]
  },
  {
   "cell_type": "code",
   "execution_count": 18,
   "id": "0b24d101",
   "metadata": {},
   "outputs": [
    {
     "data": {
      "text/html": [
       "<div>\n",
       "<style scoped>\n",
       "    .dataframe tbody tr th:only-of-type {\n",
       "        vertical-align: middle;\n",
       "    }\n",
       "\n",
       "    .dataframe tbody tr th {\n",
       "        vertical-align: top;\n",
       "    }\n",
       "\n",
       "    .dataframe thead th {\n",
       "        text-align: right;\n",
       "    }\n",
       "</style>\n",
       "<table border=\"1\" class=\"dataframe\">\n",
       "  <thead>\n",
       "    <tr style=\"text-align: right;\">\n",
       "      <th></th>\n",
       "      <th>Battery</th>\n",
       "      <th>Car_name</th>\n",
       "      <th>Car_name_link</th>\n",
       "      <th>Efficiency</th>\n",
       "      <th>Fast_charge</th>\n",
       "      <th>Price.DE.</th>\n",
       "      <th>Range</th>\n",
       "      <th>Top_speed</th>\n",
       "      <th>acceleration..0.100.</th>\n",
       "    </tr>\n",
       "  </thead>\n",
       "  <tbody>\n",
       "    <tr>\n",
       "      <th>355</th>\n",
       "      <td>46.3</td>\n",
       "      <td>Citroen e-Jumpy Combi XL 50 kWh</td>\n",
       "      <td>https://ev-database.org/car/1596/Citroen-e-Jum...</td>\n",
       "      <td>257</td>\n",
       "      <td>290.0</td>\n",
       "      <td>52730.0</td>\n",
       "      <td>180</td>\n",
       "      <td>130</td>\n",
       "      <td>12.1</td>\n",
       "    </tr>\n",
       "    <tr>\n",
       "      <th>356</th>\n",
       "      <td>46.3</td>\n",
       "      <td>Fiat E-Ulysse L2 50 kWh</td>\n",
       "      <td>https://ev-database.org/car/1721/Fiat-E-Ulysse...</td>\n",
       "      <td>250</td>\n",
       "      <td>290.0</td>\n",
       "      <td>55990.0</td>\n",
       "      <td>185</td>\n",
       "      <td>130</td>\n",
       "      <td>12.1</td>\n",
       "    </tr>\n",
       "    <tr>\n",
       "      <th>357</th>\n",
       "      <td>46.3</td>\n",
       "      <td>Opel Vivaro-e Combi L 50 kWh</td>\n",
       "      <td>https://ev-database.org/car/1601/Opel-Vivaro-e...</td>\n",
       "      <td>257</td>\n",
       "      <td>290.0</td>\n",
       "      <td>51825.0</td>\n",
       "      <td>180</td>\n",
       "      <td>130</td>\n",
       "      <td>12.1</td>\n",
       "    </tr>\n",
       "    <tr>\n",
       "      <th>358</th>\n",
       "      <td>68.0</td>\n",
       "      <td>Opel Zafira-e Life M 75 kWh</td>\n",
       "      <td>https://ev-database.org/car/1348/Opel-Zafira-e...</td>\n",
       "      <td>257</td>\n",
       "      <td>290.0</td>\n",
       "      <td>69250.0</td>\n",
       "      <td>265</td>\n",
       "      <td>130</td>\n",
       "      <td>13.3</td>\n",
       "    </tr>\n",
       "    <tr>\n",
       "      <th>359</th>\n",
       "      <td>46.3</td>\n",
       "      <td>Fiat E-Ulysse L3 50 kWh</td>\n",
       "      <td>https://ev-database.org/car/1723/Fiat-E-Ulysse...</td>\n",
       "      <td>257</td>\n",
       "      <td>290.0</td>\n",
       "      <td>56990.0</td>\n",
       "      <td>180</td>\n",
       "      <td>130</td>\n",
       "      <td>12.1</td>\n",
       "    </tr>\n",
       "  </tbody>\n",
       "</table>\n",
       "</div>"
      ],
      "text/plain": [
       "     Battery                         Car_name  \\\n",
       "355     46.3  Citroen e-Jumpy Combi XL 50 kWh   \n",
       "356     46.3          Fiat E-Ulysse L2 50 kWh   \n",
       "357     46.3     Opel Vivaro-e Combi L 50 kWh   \n",
       "358     68.0      Opel Zafira-e Life M 75 kWh   \n",
       "359     46.3          Fiat E-Ulysse L3 50 kWh   \n",
       "\n",
       "                                         Car_name_link  Efficiency  \\\n",
       "355  https://ev-database.org/car/1596/Citroen-e-Jum...         257   \n",
       "356  https://ev-database.org/car/1721/Fiat-E-Ulysse...         250   \n",
       "357  https://ev-database.org/car/1601/Opel-Vivaro-e...         257   \n",
       "358  https://ev-database.org/car/1348/Opel-Zafira-e...         257   \n",
       "359  https://ev-database.org/car/1723/Fiat-E-Ulysse...         257   \n",
       "\n",
       "     Fast_charge  Price.DE.  Range  Top_speed  acceleration..0.100.  \n",
       "355        290.0    52730.0    180        130                  12.1  \n",
       "356        290.0    55990.0    185        130                  12.1  \n",
       "357        290.0    51825.0    180        130                  12.1  \n",
       "358        290.0    69250.0    265        130                  13.3  \n",
       "359        290.0    56990.0    180        130                  12.1  "
      ]
     },
     "execution_count": 18,
     "metadata": {},
     "output_type": "execute_result"
    }
   ],
   "source": [
    "ruta = \"D:/1 DOCS SSD/The Bridge - Data Sciencie/Git Hub - Repositorio local/Git Hub - Desktop/JorgeAlonso_Repo/Jorge Alonso - EDA/API - Vehiculos electricos/EVs & Prices/EV_cars.csv\"\n",
    "ds_ev_prices = pd.read_csv(ruta)\n",
    "ds_ev_prices.tail()\n"
   ]
  },
  {
   "cell_type": "code",
   "execution_count": null,
   "id": "7c90c247",
   "metadata": {},
   "outputs": [],
   "source": []
  }
 ],
 "metadata": {
  "kernelspec": {
   "display_name": "Python 3",
   "language": "python",
   "name": "python3"
  },
  "language_info": {
   "codemirror_mode": {
    "name": "ipython",
    "version": 3
   },
   "file_extension": ".py",
   "mimetype": "text/x-python",
   "name": "python",
   "nbconvert_exporter": "python",
   "pygments_lexer": "ipython3",
   "version": "3.13.3"
  }
 },
 "nbformat": 4,
 "nbformat_minor": 5
}
